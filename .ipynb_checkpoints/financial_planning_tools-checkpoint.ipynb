{
 "cells": [
  {
   "cell_type": "markdown",
   "metadata": {},
   "source": [
    "# Financial Planning with APIs and Simulations\n",
    "\n",
    "In this Challenge, you’ll create two financial analysis tools by using a single Jupyter notebook:\n",
    "\n",
    "Part 1: A financial planner for emergencies. The members will be able to use this tool to visualize their current savings. The members can then determine if they have enough reserves for an emergency fund.\n",
    "\n",
    "Part 2: A financial planner for retirement. This tool will forecast the performance of their retirement portfolio in 30 years. To do this, the tool will make an Alpaca API call via the Alpaca SDK to get historical price data for use in Monte Carlo simulations.\n",
    "\n",
    "You’ll use the information from the Monte Carlo simulation to answer questions about the portfolio in your Jupyter notebook.\n",
    "\n"
   ]
  },
  {
   "cell_type": "code",
   "execution_count": 121,
   "metadata": {},
   "outputs": [],
   "source": [
    "# Import the required libraries and dependencies\n",
    "import os\n",
    "import requests\n",
    "import json\n",
    "import pandas as pd\n",
    "from dotenv import load_dotenv\n",
    "import alpaca_trade_api as tradeapi\n",
    "from MCForecastTools import MCSimulation\n",
    "\n",
    "%matplotlib inline"
   ]
  },
  {
   "cell_type": "code",
   "execution_count": 122,
   "metadata": {},
   "outputs": [
    {
     "data": {
      "text/plain": [
       "True"
      ]
     },
     "execution_count": 122,
     "metadata": {},
     "output_type": "execute_result"
    }
   ],
   "source": [
    "# Load the environment variables from the .env file\n",
    "#by calling the load_dotenv function\n",
    "load_dotenv()"
   ]
  },
  {
   "cell_type": "markdown",
   "metadata": {},
   "source": [
    "## Part 1: Create a Financial Planner for Emergencies"
   ]
  },
  {
   "cell_type": "markdown",
   "metadata": {},
   "source": [
    "### Evaluate the Cryptocurrency Wallet by Using the Requests Library\n",
    "\n",
    "In this section, you’ll determine the current value of a member’s cryptocurrency wallet. You’ll collect the current prices for the Bitcoin and Ethereum cryptocurrencies by using the Python Requests library. For the prototype, you’ll assume that the member holds the 1.2 Bitcoins (BTC) and 5.3 Ethereum coins (ETH). To do all this, complete the following steps:\n",
    "\n",
    "1. Create a variable named `monthly_income`, and set its value to `12000`.\n",
    "\n",
    "2. Use the Requests library to get the current price (in US dollars) of Bitcoin (BTC) and Ethereum (ETH) by using the API endpoints that the starter code supplies.\n",
    "\n",
    "3. Navigate the JSON response object to access the current price of each coin, and store each in a variable.\n",
    "\n",
    "    > **Hint** Note the specific identifier for each cryptocurrency in the API JSON response. The Bitcoin identifier is `1`, and the Ethereum identifier is `1027`.\n",
    "\n",
    "4. Calculate the value, in US dollars, of the current amount of each cryptocurrency and of the entire cryptocurrency wallet.\n",
    "\n"
   ]
  },
  {
   "cell_type": "code",
   "execution_count": 123,
   "metadata": {},
   "outputs": [],
   "source": [
    "# The current number of coins for each cryptocurrency asset held in the portfolio.\n",
    "btc_coins = 1.2\n",
    "eth_coins = 5.3"
   ]
  },
  {
   "cell_type": "markdown",
   "metadata": {},
   "source": [
    "#### Step 1: Create a variable named `monthly_income`, and set its value to `12000`."
   ]
  },
  {
   "cell_type": "code",
   "execution_count": 124,
   "metadata": {},
   "outputs": [],
   "source": [
    "# The monthly amount for the member's household income\n",
    "#variable can be easily set for a variety of monthly incomes\n",
    "monthly_income = 12000"
   ]
  },
  {
   "cell_type": "markdown",
   "metadata": {},
   "source": [
    "#### Review the endpoint URLs for the API calls to Free Crypto API in order to get the current pricing information for both BTC and ETH."
   ]
  },
  {
   "cell_type": "code",
   "execution_count": 125,
   "metadata": {},
   "outputs": [],
   "source": [
    "# The Free Crypto API Call endpoint URLs for the held cryptocurrency assets\n",
    "# there is a different URL that must be set for each crypto coin\n",
    "btc_url = \"https://api.alternative.me/v2/ticker/Bitcoin/?convert=USD\"\n",
    "eth_url = \"https://api.alternative.me/v2/ticker/Ethereum/?convert=USD\""
   ]
  },
  {
   "cell_type": "markdown",
   "metadata": {},
   "source": [
    "#### Step 2. Use the Requests library to get the current price (in US dollars) of Bitcoin (BTC) and Ethereum (ETH) by using the API endpoints that the starter code supplied."
   ]
  },
  {
   "cell_type": "code",
   "execution_count": 126,
   "metadata": {},
   "outputs": [
    {
     "name": "stdout",
     "output_type": "stream",
     "text": [
      "{\n",
      "    \"data\": {\n",
      "        \"1\": {\n",
      "            \"circulating_supply\": 18759256,\n",
      "            \"id\": 1,\n",
      "            \"last_updated\": 1626561884,\n",
      "            \"max_supply\": 21000000,\n",
      "            \"name\": \"Bitcoin\",\n",
      "            \"quotes\": {\n",
      "                \"USD\": {\n",
      "                    \"market_cap\": 595119008347,\n",
      "                    \"percent_change_1h\": -0.552808601010039,\n",
      "                    \"percent_change_24h\": 0.101286657275082,\n",
      "                    \"percent_change_7d\": -6.63297783128951,\n",
      "                    \"percentage_change_1h\": -0.552808601010039,\n",
      "                    \"percentage_change_24h\": 0.101286657275082,\n",
      "                    \"percentage_change_7d\": -6.63297783128951,\n",
      "                    \"price\": 31718.0,\n",
      "                    \"volume_24h\": 18153231112\n",
      "                }\n",
      "            },\n",
      "            \"rank\": 1,\n",
      "            \"symbol\": \"BTC\",\n",
      "            \"total_supply\": 18759256,\n",
      "            \"website_slug\": \"bitcoin\"\n",
      "        }\n",
      "    },\n",
      "    \"metadata\": {\n",
      "        \"error\": null,\n",
      "        \"num_cryptocurrencies\": 3124,\n",
      "        \"timestamp\": 1626561884\n",
      "    }\n",
      "}\n"
     ]
    }
   ],
   "source": [
    "# Using the Python requests library, make an API call to access the current price of BTC\n",
    "#Use the requests.get function and note the json file\n",
    "btc_response = requests.get(btc_url).json()\n",
    "\n",
    "\n",
    "# Use the json.dumps function to review the response data from the API call\n",
    "# Use the indent and sort_keys parameters to make the response object readable\n",
    "#printing a brief header of the JS code.  This can then be used to sort the data in the next step\n",
    "print(json.dumps(btc_response, indent=4, sort_keys=True))"
   ]
  },
  {
   "cell_type": "code",
   "execution_count": 127,
   "metadata": {},
   "outputs": [
    {
     "name": "stdout",
     "output_type": "stream",
     "text": [
      "{\n",
      "    \"data\": {\n",
      "        \"1027\": {\n",
      "            \"circulating_supply\": 116734560,\n",
      "            \"id\": 1027,\n",
      "            \"last_updated\": 1626562189,\n",
      "            \"max_supply\": 0,\n",
      "            \"name\": \"Ethereum\",\n",
      "            \"quotes\": {\n",
      "                \"USD\": {\n",
      "                    \"market_cap\": 222301173990,\n",
      "                    \"percent_change_1h\": -0.538011199635003,\n",
      "                    \"percent_change_24h\": 1.08068668752251,\n",
      "                    \"percent_change_7d\": -11.6455336899485,\n",
      "                    \"percentage_change_1h\": -0.538011199635003,\n",
      "                    \"percentage_change_24h\": 1.08068668752251,\n",
      "                    \"percentage_change_7d\": -11.6455336899485,\n",
      "                    \"price\": 1905.44,\n",
      "                    \"volume_24h\": 15061192429\n",
      "                }\n",
      "            },\n",
      "            \"rank\": 2,\n",
      "            \"symbol\": \"ETH\",\n",
      "            \"total_supply\": 116734560,\n",
      "            \"website_slug\": \"ethereum\"\n",
      "        }\n",
      "    },\n",
      "    \"metadata\": {\n",
      "        \"error\": null,\n",
      "        \"num_cryptocurrencies\": 3124,\n",
      "        \"timestamp\": 1626562189\n",
      "    }\n",
      "}\n"
     ]
    }
   ],
   "source": [
    "# Using the Python requests library, make an API call to access the current price ETH\n",
    "eth_response = requests.get(eth_url).json()# YOUR CODE HERE\n",
    "\n",
    "# Use the json.dumps function to review the response data from the API call\n",
    "# Use the indent and sort_keys parameters to make the response object readable\n",
    "# similar code to the bitcoin data\n",
    "print(json.dumps(eth_response, indent=4, sort_keys=True))"
   ]
  },
  {
   "cell_type": "markdown",
   "metadata": {},
   "source": [
    "#### Step 3: Navigate the JSON response object to access the current price of each coin, and store each in a variable."
   ]
  },
  {
   "cell_type": "code",
   "execution_count": 128,
   "metadata": {},
   "outputs": [
    {
     "name": "stdout",
     "output_type": "stream",
     "text": [
      "The price for Bitcoin is 31718.0\n"
     ]
    }
   ],
   "source": [
    "# Navigate the BTC response object to access the current price of BTC\n",
    "# Setting the series of rosw to find the price data\n",
    "btc_price = btc_response['data']['1']['quotes']['USD']['price']\n",
    "\n",
    "\n",
    "# Print the current price of BTC\n",
    "print(f\"The price for Bitcoin is {btc_price}\")\n"
   ]
  },
  {
   "cell_type": "code",
   "execution_count": 129,
   "metadata": {},
   "outputs": [
    {
     "name": "stdout",
     "output_type": "stream",
     "text": [
      "The price for Ethereum is 1905.44\n"
     ]
    }
   ],
   "source": [
    "# Navigate the BTC response object to access the current price of ETH\n",
    "# Setting the series of rosw to find the price data\n",
    "eth_price = eth_response['data']['1027']['quotes']['USD']['price']\n",
    "\n",
    "\n",
    "# Print the current price of ETH\n",
    "print(f\"The price for Ethereum is {eth_price}\")"
   ]
  },
  {
   "cell_type": "markdown",
   "metadata": {},
   "source": [
    "### Step 4: Calculate the value, in US dollars, of the current amount of each cryptocurrency and of the entire cryptocurrency wallet."
   ]
  },
  {
   "cell_type": "code",
   "execution_count": 130,
   "metadata": {},
   "outputs": [
    {
     "name": "stdout",
     "output_type": "stream",
     "text": [
      "The current value of your Bitcoin holdings is 38061.6\n"
     ]
    }
   ],
   "source": [
    "# Compute the current value of the BTC holding \n",
    "# value is simply price times quantity\n",
    "btc_value = btc_price*btc_coins\n",
    "# Print current value of your holding in BTC\n",
    "print(f\"The current value of your Bitcoin holdings is {btc_value}\")"
   ]
  },
  {
   "cell_type": "code",
   "execution_count": 131,
   "metadata": {},
   "outputs": [
    {
     "name": "stdout",
     "output_type": "stream",
     "text": [
      "The current value of your Ethereum holdings is 10098.832\n"
     ]
    }
   ],
   "source": [
    "# Compute the current value of the ETH holding\n",
    "# value is simply price times quantity\n",
    "eth_value = eth_price*eth_coins\n",
    "\n",
    "# Print current value of your holding in ETH\n",
    "print(f\"The current value of your Ethereum holdings is {eth_value}\")"
   ]
  },
  {
   "cell_type": "code",
   "execution_count": 132,
   "metadata": {},
   "outputs": [
    {
     "name": "stdout",
     "output_type": "stream",
     "text": [
      "The current value of your total Crypto holdings is 48160.432\n"
     ]
    }
   ],
   "source": [
    "# Compute the total value of the cryptocurrency wallet\n",
    "# Add the value of the BTC holding to the value of the ETH holding\n",
    "total_crypto_wallet = btc_value + eth_value\n",
    "\n",
    "# Print current cryptocurrency wallet balance\n",
    "print(f\"The current value of your total Crypto holdings is {total_crypto_wallet}\")"
   ]
  },
  {
   "cell_type": "markdown",
   "metadata": {},
   "source": [
    "### Evaluate the Stock and Bond Holdings by Using the Alpaca SDK\n",
    "\n",
    "In this section, you’ll determine the current value of a member’s stock and bond holdings. You’ll make an API call to Alpaca via the Alpaca SDK to get the current closing prices of the SPDR S&P 500 ETF Trust (ticker: SPY) and of the iShares Core US Aggregate Bond ETF (ticker: AGG). For the prototype, assume that the member holds 110 shares of SPY, which represents the stock portion of their portfolio, and 200 shares of AGG, which represents the bond portion. To do all this, complete the following steps:\n",
    "\n",
    "1. In the `Starter_Code` folder, create an environment file (`.env`) to store the values of your Alpaca API key and Alpaca secret key.\n",
    "\n",
    "2. Set the variables for the Alpaca API and secret keys. Using the Alpaca SDK, create the Alpaca `tradeapi.REST` object. In this object, include the parameters for the Alpaca API key, the secret key, and the version number.\n",
    "\n",
    "3. Set the following parameters for the Alpaca API call:\n",
    "\n",
    "    - `tickers`: Use the tickers for the member’s stock and bond holdings.\n",
    "\n",
    "    - `timeframe`: Use a time frame of one day.\n",
    "\n",
    "    - `start_date` and `end_date`: Use the same date for these parameters, and format them with the date of the previous weekday (or `2020-08-07`). This is because you want the one closing price for the most-recent trading day.\n",
    "\n",
    "4. Get the current closing prices for `SPY` and `AGG` by using the Alpaca `get_barset` function. Format the response as a Pandas DataFrame by including the `df` property at the end of the `get_barset` function.\n",
    "\n",
    "5. Navigating the Alpaca response DataFrame, select the `SPY` and `AGG` closing prices, and store them as variables.\n",
    "\n",
    "6. Calculate the value, in US dollars, of the current amount of shares in each of the stock and bond portions of the portfolio, and print the results.\n"
   ]
  },
  {
   "cell_type": "markdown",
   "metadata": {},
   "source": [
    "#### Review the total number of shares held in both (SPY) and (AGG)."
   ]
  },
  {
   "cell_type": "code",
   "execution_count": 133,
   "metadata": {},
   "outputs": [],
   "source": [
    "# Current amount of shares held in both the stock (SPY) and bond (AGG) portion of the portfolio.\n",
    "spy_shares = 110\n",
    "agg_shares = 200\n"
   ]
  },
  {
   "cell_type": "markdown",
   "metadata": {},
   "source": [
    "#### Step 1: In the `Starter_Code` folder, create an environment file (`.env`) to store the values of your Alpaca API key and Alpaca secret key."
   ]
  },
  {
   "cell_type": "markdown",
   "metadata": {},
   "source": [
    "#### Step 2: Set the variables for the Alpaca API and secret keys. Using the Alpaca SDK, create the Alpaca `tradeapi.REST` object. In this object, include the parameters for the Alpaca API key, the secret key, and the version number."
   ]
  },
  {
   "cell_type": "code",
   "execution_count": 134,
   "metadata": {},
   "outputs": [],
   "source": [
    "# Set the variables for the Alpaca API and secret keys\n",
    "#each key is pulled by its title in the .env file\n",
    "alpaca_key_id = os.getenv(\"ALPACA_API_KEY\")\n",
    "alpaca_secret_key = os.getenv(\"ALPACA_SECRET_KEY\")\n",
    "# Create the Alpaca tradeapi.REST object\n",
    "# input the two keys and set the api version to 2\n",
    "alpaca_api = tradeapi.REST(alpaca_key_id, alpaca_secret_key, api_version=\"v2\")"
   ]
  },
  {
   "cell_type": "markdown",
   "metadata": {},
   "source": [
    "#### Step 3: Set the following parameters for the Alpaca API call:\n",
    "\n",
    "- `tickers`: Use the tickers for the member’s stock and bond holdings.\n",
    "\n",
    "- `timeframe`: Use a time frame of one day.\n",
    "\n",
    "- `start_date` and `end_date`: Use the same date for these parameters, and format them with the date of the previous weekday (or `2020-08-07`). This is because you want the one closing price for the most-recent trading day.\n"
   ]
  },
  {
   "cell_type": "code",
   "execution_count": 135,
   "metadata": {},
   "outputs": [],
   "source": [
    "# Set the tickers for both the bond and stock portion of the portfolio\n",
    "#Create a couple of new variables\n",
    "tickers = [\"SPY\", \"AGG\"]\n",
    "# Set timeframe to 1D \n",
    "timeframe = \"1D\"\n",
    "# Format current date as ISO format\n",
    "# Set both the start and end date at the date of your prior weekday \n",
    "# This will give you the closing price of the previous trading day\n",
    "# Format current date as ISO format\n",
    "start_date = pd.Timestamp(\"2020-06-01\", tz=\"America/New_York\").isoformat()\n",
    "end_date = pd.Timestamp(\"2020-06-01\", tz=\"America/New_York\").isoformat()"
   ]
  },
  {
   "cell_type": "markdown",
   "metadata": {},
   "source": [
    "#### Step 4: Get the current closing prices for `SPY` and `AGG` by using the Alpaca `get_barset` function. Format the response as a Pandas DataFrame by including the `df` property at the end of the `get_barset` function."
   ]
  },
  {
   "cell_type": "code",
   "execution_count": 177,
   "metadata": {},
   "outputs": [
    {
     "data": {
      "text/html": [
       "<div>\n",
       "<style scoped>\n",
       "    .dataframe tbody tr th:only-of-type {\n",
       "        vertical-align: middle;\n",
       "    }\n",
       "\n",
       "    .dataframe tbody tr th {\n",
       "        vertical-align: top;\n",
       "    }\n",
       "\n",
       "    .dataframe thead tr th {\n",
       "        text-align: left;\n",
       "    }\n",
       "\n",
       "    .dataframe thead tr:last-of-type th {\n",
       "        text-align: right;\n",
       "    }\n",
       "</style>\n",
       "<table border=\"1\" class=\"dataframe\">\n",
       "  <thead>\n",
       "    <tr>\n",
       "      <th></th>\n",
       "      <th colspan=\"5\" halign=\"left\">AGG</th>\n",
       "      <th colspan=\"5\" halign=\"left\">SPY</th>\n",
       "    </tr>\n",
       "    <tr>\n",
       "      <th></th>\n",
       "      <th>open</th>\n",
       "      <th>high</th>\n",
       "      <th>low</th>\n",
       "      <th>close</th>\n",
       "      <th>volume</th>\n",
       "      <th>open</th>\n",
       "      <th>high</th>\n",
       "      <th>low</th>\n",
       "      <th>close</th>\n",
       "      <th>volume</th>\n",
       "    </tr>\n",
       "    <tr>\n",
       "      <th>time</th>\n",
       "      <th></th>\n",
       "      <th></th>\n",
       "      <th></th>\n",
       "      <th></th>\n",
       "      <th></th>\n",
       "      <th></th>\n",
       "      <th></th>\n",
       "      <th></th>\n",
       "      <th></th>\n",
       "      <th></th>\n",
       "    </tr>\n",
       "  </thead>\n",
       "  <tbody>\n",
       "    <tr>\n",
       "      <th>2020-06-01 00:00:00-04:00</th>\n",
       "      <td>117.35</td>\n",
       "      <td>117.3999</td>\n",
       "      <td>117.24</td>\n",
       "      <td>117.365</td>\n",
       "      <td>10635820</td>\n",
       "      <td>303.62</td>\n",
       "      <td>306.205</td>\n",
       "      <td>303.06</td>\n",
       "      <td>305.58</td>\n",
       "      <td>92628393</td>\n",
       "    </tr>\n",
       "  </tbody>\n",
       "</table>\n",
       "</div>"
      ],
      "text/plain": [
       "                              AGG                                       \\\n",
       "                             open      high     low    close    volume   \n",
       "time                                                                     \n",
       "2020-06-01 00:00:00-04:00  117.35  117.3999  117.24  117.365  10635820   \n",
       "\n",
       "                              SPY                                     \n",
       "                             open     high     low   close    volume  \n",
       "time                                                                  \n",
       "2020-06-01 00:00:00-04:00  303.62  306.205  303.06  305.58  92628393  "
      ]
     },
     "execution_count": 177,
     "metadata": {},
     "output_type": "execute_result"
    }
   ],
   "source": [
    "# Use the Alpaca get_barset function to get current closing prices the portfolio\n",
    "# Be sure to set the `df` property after the function to format the response object as a DataFrame\n",
    "#creating portfolio dataframe\n",
    "stock_portfolio = alpaca_api.get_barset(tickers,timeframe,start = start_date,end = end_date).df\n",
    "#stock_portfolio.set_index('time', inplace = True)\n",
    "# Review the first 5 rows of the Alpaca DataFrame\n",
    "stock_portfolio.head()"
   ]
  },
  {
   "cell_type": "markdown",
   "metadata": {},
   "source": [
    "#### Step 5: Navigating the Alpaca response DataFrame, select the `SPY` and `AGG` closing prices, and store them as variables."
   ]
  },
  {
   "cell_type": "code",
   "execution_count": 181,
   "metadata": {},
   "outputs": [
    {
     "name": "stdout",
     "output_type": "stream",
     "text": [
      "117.365\n"
     ]
    }
   ],
   "source": [
    "# Access the closing price for AGG from the Alpaca DataFrame\n",
    "# Converting the value to a floating point number\n",
    "agg_close_price = stock_portfolio['AGG']['close'][0]# YOUR CODE HERE\n",
    "\n",
    "# Print the AGG closing price\n",
    "# YOUR CODE HERE\n",
    "print(agg_close_price)"
   ]
  },
  {
   "cell_type": "code",
   "execution_count": 182,
   "metadata": {},
   "outputs": [
    {
     "name": "stdout",
     "output_type": "stream",
     "text": [
      "305.58\n"
     ]
    }
   ],
   "source": [
    "# Access the closing price for SPY from the Alpaca DataFrame\n",
    "# Converting the value to a floating point number\n",
    "spy_close_price = stock_portfolio['SPY']['close'][0]# YOUR CODE HERE\n",
    "\n",
    "# Print the SPY closing price\n",
    "print(spy_close_price)"
   ]
  },
  {
   "cell_type": "markdown",
   "metadata": {},
   "source": [
    "#### Step 6: Calculate the value, in US dollars, of the current amount of shares in each of the stock and bond portions of the portfolio, and print the results."
   ]
  },
  {
   "cell_type": "code",
   "execution_count": 183,
   "metadata": {},
   "outputs": [
    {
     "name": "stdout",
     "output_type": "stream",
     "text": [
      "The current value of your AGG holdings is 23473.0\n"
     ]
    }
   ],
   "source": [
    "# Calculate the current value of the bond portion of the portfolio\n",
    "agg_value = agg_close_price*agg_shares# YOUR CODE HERE\n",
    "\n",
    "# Print the current value of the bond portfolio\n",
    "print(f\"The current value of your AGG holdings is {agg_value}\")"
   ]
  },
  {
   "cell_type": "code",
   "execution_count": 184,
   "metadata": {},
   "outputs": [
    {
     "name": "stdout",
     "output_type": "stream",
     "text": [
      "The current value of your SPY holdings is 33613.799999999996\n"
     ]
    }
   ],
   "source": [
    "# Calculate the current value of the stock portion of the portfolio\n",
    "spy_value = spy_close_price*spy_shares\n",
    "\n",
    "\n",
    "# Print the current value of the stock portfolio\n",
    "print(f\"The current value of your SPY holdings is {spy_value}\")"
   ]
  },
  {
   "cell_type": "code",
   "execution_count": 185,
   "metadata": {},
   "outputs": [
    {
     "name": "stdout",
     "output_type": "stream",
     "text": [
      "The current value of your stock and bond holdings is 57086.799999999996\n"
     ]
    }
   ],
   "source": [
    "# Calculate the total value of the stock and bond portion of the portfolio\n",
    "total_stocks_bonds = agg_value + spy_value\n",
    "\n",
    "# Print the current balance of the stock and bond portion of the portfolio\n",
    "print(f\"The current value of your stock and bond holdings is {total_stocks_bonds}\")"
   ]
  },
  {
   "cell_type": "code",
   "execution_count": 186,
   "metadata": {},
   "outputs": [
    {
     "name": "stdout",
     "output_type": "stream",
     "text": [
      "The current value of all your money is 105247.23199999999\n"
     ]
    }
   ],
   "source": [
    "# Calculate the total value of the member's entire savings portfolio\n",
    "# Add the value of the cryptocurrency walled to the value of the total stocks and bonds\n",
    "total_portfolio = total_crypto_wallet + total_stocks_bonds\n",
    "\n",
    "# Print current cryptocurrency wallet balance\n",
    "print(f\"The current value of all your money is {total_portfolio}\")"
   ]
  },
  {
   "cell_type": "markdown",
   "metadata": {},
   "source": [
    "### Evaluate the Emergency Fund\n",
    "\n",
    "In this section, you’ll use the valuations for the cryptocurrency wallet and for the stock and bond portions of the portfolio to determine if the credit union member has enough savings to build an emergency fund into their financial plan. To do this, complete the following steps:\n",
    "\n",
    "1. Create a Python list named `savings_data` that has two elements. The first element contains the total value of the cryptocurrency wallet. The second element contains the total value of the stock and bond portions of the portfolio.\n",
    "\n",
    "2. Use the `savings_data` list to create a Pandas DataFrame named `savings_df`, and then display this DataFrame. The function to create the DataFrame should take the following three parameters:\n",
    "\n",
    "    - `savings_data`: Use the list that you just created.\n",
    "\n",
    "    - `columns`: Set this parameter equal to a Python list with a single value called `amount`.\n",
    "\n",
    "    - `index`: Set this parameter equal to a Python list with the values of `crypto` and `stock/bond`.\n",
    "\n",
    "3. Use the `savings_df` DataFrame to plot a pie chart that visualizes the composition of the member’s portfolio. The y-axis of the pie chart uses `amount`. Be sure to add a title.\n",
    "\n",
    "4. Using Python, determine if the current portfolio has enough to create an emergency fund as part of the member’s financial plan. Ideally, an emergency fund should equal to three times the member’s monthly income. To do this, implement the following steps:\n",
    "\n",
    "    1. Create a variable named `emergency_fund_value`, and set it equal to three times the value of the member’s `monthly_income` of $12000. (You set this earlier in Part 1).\n",
    "\n",
    "    2. Create a series of three if statements to determine if the member’s total portfolio is large enough to fund the emergency portfolio:\n",
    "\n",
    "        1. If the total portfolio value is greater than the emergency fund value, display a message congratulating the member for having enough money in this fund.\n",
    "\n",
    "        2. Else if the total portfolio value is equal to the emergency fund value, display a message congratulating the member on reaching this important financial goal.\n",
    "\n",
    "        3. Else the total portfolio is less than the emergency fund value, so display a message showing how many dollars away the member is from reaching the goal. (Subtract the total portfolio value from the emergency fund value.)\n"
   ]
  },
  {
   "cell_type": "markdown",
   "metadata": {},
   "source": [
    "#### Step 1: Create a Python list named `savings_data` that has two elements. The first element contains the total value of the cryptocurrency wallet. The second element contains the total value of the stock and bond portions of the portfolio."
   ]
  },
  {
   "cell_type": "code",
   "execution_count": 187,
   "metadata": {},
   "outputs": [
    {
     "name": "stdout",
     "output_type": "stream",
     "text": [
      "[48160.432, 57086.799999999996]\n"
     ]
    }
   ],
   "source": [
    "# Consolidate financial assets data into a Python list\n",
    "savings_data = [total_crypto_wallet,total_stocks_bonds]\n",
    "# Review the Python list savings_data\n",
    "print(savings_data)"
   ]
  },
  {
   "cell_type": "markdown",
   "metadata": {},
   "source": [
    "#### Step 2: Use the `savings_data` list to create a Pandas DataFrame named `savings_df`, and then display this DataFrame. The function to create the DataFrame should take the following three parameters:\n",
    "\n",
    "- `savings_data`: Use the list that you just created.\n",
    "\n",
    "- `columns`: Set this parameter equal to a Python list with a single value called `amount`.\n",
    "\n",
    "- `index`: Set this parameter equal to a Python list with the values of `crypto` and `stock/bond`.\n"
   ]
  },
  {
   "cell_type": "code",
   "execution_count": 188,
   "metadata": {},
   "outputs": [
    {
     "data": {
      "text/html": [
       "<div>\n",
       "<style scoped>\n",
       "    .dataframe tbody tr th:only-of-type {\n",
       "        vertical-align: middle;\n",
       "    }\n",
       "\n",
       "    .dataframe tbody tr th {\n",
       "        vertical-align: top;\n",
       "    }\n",
       "\n",
       "    .dataframe thead th {\n",
       "        text-align: right;\n",
       "    }\n",
       "</style>\n",
       "<table border=\"1\" class=\"dataframe\">\n",
       "  <thead>\n",
       "    <tr style=\"text-align: right;\">\n",
       "      <th></th>\n",
       "      <th>amount</th>\n",
       "    </tr>\n",
       "  </thead>\n",
       "  <tbody>\n",
       "    <tr>\n",
       "      <th>crypto</th>\n",
       "      <td>48160.432</td>\n",
       "    </tr>\n",
       "    <tr>\n",
       "      <th>stock/bond</th>\n",
       "      <td>57086.800</td>\n",
       "    </tr>\n",
       "  </tbody>\n",
       "</table>\n",
       "</div>"
      ],
      "text/plain": [
       "               amount\n",
       "crypto      48160.432\n",
       "stock/bond  57086.800"
      ]
     },
     "execution_count": 188,
     "metadata": {},
     "output_type": "execute_result"
    }
   ],
   "source": [
    "# Create a Pandas DataFrame called savings_df \n",
    "\n",
    "savings_df = pd.DataFrame(savings_data,index = ['crypto','stock/bond'],columns = ['amount'])\n",
    "# Display the savings_df DataFrame\n",
    "\n",
    "savings_df.head()"
   ]
  },
  {
   "cell_type": "markdown",
   "metadata": {},
   "source": [
    "#### Step 3: Use the `savings_df` DataFrame to plot a pie chart that visualizes the composition of the member’s portfolio. The y-axis of the pie chart uses `amount`. Be sure to add a title."
   ]
  },
  {
   "cell_type": "code",
   "execution_count": 193,
   "metadata": {},
   "outputs": [
    {
     "data": {
      "text/plain": [
       "<AxesSubplot:title={'center':'Portfolio Weights'}, ylabel='amount'>"
      ]
     },
     "execution_count": 193,
     "metadata": {},
     "output_type": "execute_result"
    },
    {
     "data": {
      "image/png": "[encoded data removed]",
      "text/plain": [
       "<Figure size 432x288 with 1 Axes>"
      ]
     },
     "metadata": {},
     "output_type": "display_data"
    }
   ],
   "source": [
    "# Plot the total value of the member's portfolio (crypto and stock/bond) in a pie chart\n",
    "savings_df.plot(kind='pie',y = 'amount',title = 'Portfolio Weights')\n",
    " "
   ]
  },
  {
   "cell_type": "markdown",
   "metadata": {},
   "source": [
    "#### Step 4: Using Python, determine if the current portfolio has enough to create an emergency fund as part of the member’s financial plan. Ideally, an emergency fund should equal to three times the member’s monthly income. To do this, implement the following steps:\n",
    "\n",
    "Step 1. Create a variable named `emergency_fund_value`, and set it equal to three times the value of the member’s `monthly_income` of 12000. (You set this earlier in Part 1).\n",
    "\n",
    "Step 2. Create a series of three if statements to determine if the member’s total portfolio is large enough to fund the emergency portfolio:\n",
    "\n",
    "* If the total portfolio value is greater than the emergency fund value, display a message congratulating the member for having enough money in this fund.\n",
    "\n",
    "* Else if the total portfolio value is equal to the emergency fund value, display a message congratulating the member on reaching this important financial goal.\n",
    "\n",
    "* Else the total portfolio is less than the emergency fund value, so display a message showing how many dollars away the member is from reaching the goal. (Subtract the total portfolio value from the emergency fund value.)\n"
   ]
  },
  {
   "cell_type": "markdown",
   "metadata": {},
   "source": [
    "##### Step 4-1: Create a variable named `emergency_fund_value`, and set it equal to three times the value of the member’s `monthly_income` of 12000. (You set this earlier in Part 1)."
   ]
  },
  {
   "cell_type": "code",
   "execution_count": 146,
   "metadata": {},
   "outputs": [
    {
     "data": {
      "text/plain": [
       "36000"
      ]
     },
     "execution_count": 146,
     "metadata": {},
     "output_type": "execute_result"
    }
   ],
   "source": [
    "# Create a variable named emergency_fund_value\n",
    "\n",
    "emergency_fund_value = 3*monthly_income\n",
    "emergency_fund_value"
   ]
  },
  {
   "cell_type": "markdown",
   "metadata": {},
   "source": [
    "##### Step 4-2: Create a series of three if statements to determine if the member’s total portfolio is large enough to fund the emergency portfolio:\n",
    "\n",
    "* If the total portfolio value is greater than the emergency fund value, display a message congratulating the member for having enough money in this fund.\n",
    "\n",
    "* Else if the total portfolio value is equal to the emergency fund value, display a message congratulating the member on reaching this important financial goal.\n",
    "\n",
    "* Else the total portfolio is less than the emergency fund value, so display a message showing how many dollars away the member is from reaching the goal. (Subtract the total portfolio value from the emergency fund value.)"
   ]
  },
  {
   "cell_type": "code",
   "execution_count": 190,
   "metadata": {},
   "outputs": [
    {
     "name": "stdout",
     "output_type": "stream",
     "text": [
      "Great, you are rich enough to get fired\n"
     ]
    }
   ],
   "source": [
    "# Evaluate the possibility of creating an emergency fund with 3 conditions:\n",
    "\n",
    "if total_portfolio > emergency_fund_value:\n",
    "    print('Great, you are rich enough to get fired')\n",
    "\n",
    "if total_portfolio == emergency_fund_value:\n",
    "    print('You have enough money to survive getting fired, but it would be good to save some more just to be safe')\n",
    "\n",
    "if total_portfolio < emergency_fund_value:\n",
    "    print('Do not get fired, you do not have enough emergency funds to eat!')\n",
    "            \n",
    "\n"
   ]
  },
  {
   "cell_type": "markdown",
   "metadata": {},
   "source": [
    "## Part 2: Create a Financial Planner for Retirement"
   ]
  },
  {
   "cell_type": "markdown",
   "metadata": {},
   "source": [
    "### Create the Monte Carlo Simulation\n",
    "\n",
    "In this section, you’ll use the MCForecastTools library to create a Monte Carlo simulation for the member’s savings portfolio. To do this, complete the following steps:\n",
    "\n",
    "1. Make an API call via the Alpaca SDK to get 10 years of historical closing prices for a traditional 60/40 portfolio split: 60% stocks (SPY) and 40% bonds (AGG).\n",
    "\n",
    "2. Run a Monte Carlo simulation of 500 samples and 30 years for the 60/40 portfolio, and then plot the results.The following image shows the overlay line plot resulting from a simulation with these characteristics. However, because a random number generator is used to run each live Monte Carlo simulation, your image will differ slightly from this exact image:\n",
    "\n",
    "![A screenshot depicts the resulting plot.](Images/5-4-monte-carlo-line-plot.png)\n",
    "\n",
    "3. Plot the probability distribution of the Monte Carlo simulation. Plot the probability distribution of the Monte Carlo simulation. The following image shows the histogram plot resulting from a simulation with these characteristics. However, because a random number generator is used to run each live Monte Carlo simulation, your image will differ slightly from this exact image:\n",
    "\n",
    "![A screenshot depicts the histogram plot.](Images/5-4-monte-carlo-histogram.png)\n",
    "\n",
    "4. Generate the summary statistics for the Monte Carlo simulation.\n",
    "\n"
   ]
  },
  {
   "cell_type": "markdown",
   "metadata": {},
   "source": [
    "#### Step 1: Make an API call via the Alpaca SDK to get 10 years of historical closing prices for a traditional 60/40 portfolio split: 60% stocks (SPY) and 40% bonds (AGG)."
   ]
  },
  {
   "cell_type": "code",
   "execution_count": 148,
   "metadata": {},
   "outputs": [],
   "source": [
    "# Set start and end dates of 10 years back from your current date\n",
    "# Alternatively, you can use an end date of 2020-08-07 and work 10 years back from that date \n",
    "\n",
    "start_date_two = pd.Timestamp(\"2010-05-01\", tz=\"America/New_York\").isoformat()\n",
    "end_date_two = pd.Timestamp(\"2020-05-01\", tz=\"America/New_York\").isoformat()\n",
    "\n",
    "\n"
   ]
  },
  {
   "cell_type": "code",
   "execution_count": 149,
   "metadata": {},
   "outputs": [
    {
     "data": {
      "text/html": [
       "<div>\n",
       "<style scoped>\n",
       "    .dataframe tbody tr th:only-of-type {\n",
       "        vertical-align: middle;\n",
       "    }\n",
       "\n",
       "    .dataframe tbody tr th {\n",
       "        vertical-align: top;\n",
       "    }\n",
       "\n",
       "    .dataframe thead tr th {\n",
       "        text-align: left;\n",
       "    }\n",
       "\n",
       "    .dataframe thead tr:last-of-type th {\n",
       "        text-align: right;\n",
       "    }\n",
       "</style>\n",
       "<table border=\"1\" class=\"dataframe\">\n",
       "  <thead>\n",
       "    <tr>\n",
       "      <th></th>\n",
       "      <th colspan=\"5\" halign=\"left\">AGG</th>\n",
       "      <th colspan=\"5\" halign=\"left\">SPY</th>\n",
       "    </tr>\n",
       "    <tr>\n",
       "      <th></th>\n",
       "      <th>open</th>\n",
       "      <th>high</th>\n",
       "      <th>low</th>\n",
       "      <th>close</th>\n",
       "      <th>volume</th>\n",
       "      <th>open</th>\n",
       "      <th>high</th>\n",
       "      <th>low</th>\n",
       "      <th>close</th>\n",
       "      <th>volume</th>\n",
       "    </tr>\n",
       "    <tr>\n",
       "      <th>time</th>\n",
       "      <th></th>\n",
       "      <th></th>\n",
       "      <th></th>\n",
       "      <th></th>\n",
       "      <th></th>\n",
       "      <th></th>\n",
       "      <th></th>\n",
       "      <th></th>\n",
       "      <th></th>\n",
       "      <th></th>\n",
       "    </tr>\n",
       "  </thead>\n",
       "  <tbody>\n",
       "    <tr>\n",
       "      <th>2020-04-27 00:00:00-04:00</th>\n",
       "      <td>117.21</td>\n",
       "      <td>117.3600</td>\n",
       "      <td>116.8200</td>\n",
       "      <td>116.84</td>\n",
       "      <td>6707494</td>\n",
       "      <td>285.12</td>\n",
       "      <td>288.2700</td>\n",
       "      <td>284.62</td>\n",
       "      <td>287.11</td>\n",
       "      <td>135955115</td>\n",
       "    </tr>\n",
       "    <tr>\n",
       "      <th>2020-04-28 00:00:00-04:00</th>\n",
       "      <td>117.27</td>\n",
       "      <td>117.4500</td>\n",
       "      <td>117.1200</td>\n",
       "      <td>117.25</td>\n",
       "      <td>10729690</td>\n",
       "      <td>291.02</td>\n",
       "      <td>291.4000</td>\n",
       "      <td>285.40</td>\n",
       "      <td>285.77</td>\n",
       "      <td>192772205</td>\n",
       "    </tr>\n",
       "    <tr>\n",
       "      <th>2020-04-29 00:00:00-04:00</th>\n",
       "      <td>117.29</td>\n",
       "      <td>117.4800</td>\n",
       "      <td>117.2000</td>\n",
       "      <td>117.43</td>\n",
       "      <td>9036494</td>\n",
       "      <td>291.53</td>\n",
       "      <td>294.8800</td>\n",
       "      <td>290.41</td>\n",
       "      <td>293.19</td>\n",
       "      <td>204606690</td>\n",
       "    </tr>\n",
       "    <tr>\n",
       "      <th>2020-04-30 00:00:00-04:00</th>\n",
       "      <td>117.38</td>\n",
       "      <td>117.4900</td>\n",
       "      <td>117.0650</td>\n",
       "      <td>117.15</td>\n",
       "      <td>13756340</td>\n",
       "      <td>291.71</td>\n",
       "      <td>293.3239</td>\n",
       "      <td>288.59</td>\n",
       "      <td>290.39</td>\n",
       "      <td>204197726</td>\n",
       "    </tr>\n",
       "    <tr>\n",
       "      <th>2020-05-01 00:00:00-04:00</th>\n",
       "      <td>116.97</td>\n",
       "      <td>117.0998</td>\n",
       "      <td>116.6775</td>\n",
       "      <td>116.90</td>\n",
       "      <td>11778582</td>\n",
       "      <td>285.31</td>\n",
       "      <td>290.6572</td>\n",
       "      <td>281.52</td>\n",
       "      <td>282.73</td>\n",
       "      <td>222309009</td>\n",
       "    </tr>\n",
       "  </tbody>\n",
       "</table>\n",
       "</div>"
      ],
      "text/plain": [
       "                              AGG                                        \\\n",
       "                             open      high       low   close    volume   \n",
       "time                                                                      \n",
       "2020-04-27 00:00:00-04:00  117.21  117.3600  116.8200  116.84   6707494   \n",
       "2020-04-28 00:00:00-04:00  117.27  117.4500  117.1200  117.25  10729690   \n",
       "2020-04-29 00:00:00-04:00  117.29  117.4800  117.2000  117.43   9036494   \n",
       "2020-04-30 00:00:00-04:00  117.38  117.4900  117.0650  117.15  13756340   \n",
       "2020-05-01 00:00:00-04:00  116.97  117.0998  116.6775  116.90  11778582   \n",
       "\n",
       "                              SPY                                       \n",
       "                             open      high     low   close     volume  \n",
       "time                                                                    \n",
       "2020-04-27 00:00:00-04:00  285.12  288.2700  284.62  287.11  135955115  \n",
       "2020-04-28 00:00:00-04:00  291.02  291.4000  285.40  285.77  192772205  \n",
       "2020-04-29 00:00:00-04:00  291.53  294.8800  290.41  293.19  204606690  \n",
       "2020-04-30 00:00:00-04:00  291.71  293.3239  288.59  290.39  204197726  \n",
       "2020-05-01 00:00:00-04:00  285.31  290.6572  281.52  282.73  222309009  "
      ]
     },
     "execution_count": 149,
     "metadata": {},
     "output_type": "execute_result"
    }
   ],
   "source": [
    "# Use the Alpaca get_barset function to make the API call to get the 10 years worth of pricing data\n",
    "# The tickers and timeframe parameters should have been set in Part 1 of this activity \n",
    "# The start and end dates should be updated with the information set above\n",
    "# Remember to add the df property to the end of the call so the response is returned as a DataFrame\n",
    "\n",
    "\n",
    "part_two_prices_df = alpaca_api.get_barset(tickers,timeframe,start=start_date_two,end=end_date_two).df\n",
    "# Display both the first and last five rows of the DataFrame\n",
    "\n",
    "part_two_prices_df.head()\n",
    "part_two_prices_df.tail()"
   ]
  },
  {
   "cell_type": "markdown",
   "metadata": {},
   "source": [
    "#### Step 2: Run a Monte Carlo simulation of 500 samples and 30 years for the 60/40 portfolio, and then plot the results."
   ]
  },
  {
   "cell_type": "code",
   "execution_count": 150,
   "metadata": {},
   "outputs": [
    {
     "data": {
      "text/html": [
       "<div>\n",
       "<style scoped>\n",
       "    .dataframe tbody tr th:only-of-type {\n",
       "        vertical-align: middle;\n",
       "    }\n",
       "\n",
       "    .dataframe tbody tr th {\n",
       "        vertical-align: top;\n",
       "    }\n",
       "\n",
       "    .dataframe thead tr th {\n",
       "        text-align: left;\n",
       "    }\n",
       "\n",
       "    .dataframe thead tr:last-of-type th {\n",
       "        text-align: right;\n",
       "    }\n",
       "</style>\n",
       "<table border=\"1\" class=\"dataframe\">\n",
       "  <thead>\n",
       "    <tr>\n",
       "      <th></th>\n",
       "      <th colspan=\"6\" halign=\"left\">AGG</th>\n",
       "      <th colspan=\"6\" halign=\"left\">SPY</th>\n",
       "    </tr>\n",
       "    <tr>\n",
       "      <th></th>\n",
       "      <th>open</th>\n",
       "      <th>high</th>\n",
       "      <th>low</th>\n",
       "      <th>close</th>\n",
       "      <th>volume</th>\n",
       "      <th>daily_return</th>\n",
       "      <th>open</th>\n",
       "      <th>high</th>\n",
       "      <th>low</th>\n",
       "      <th>close</th>\n",
       "      <th>volume</th>\n",
       "      <th>daily_return</th>\n",
       "    </tr>\n",
       "    <tr>\n",
       "      <th>time</th>\n",
       "      <th></th>\n",
       "      <th></th>\n",
       "      <th></th>\n",
       "      <th></th>\n",
       "      <th></th>\n",
       "      <th></th>\n",
       "      <th></th>\n",
       "      <th></th>\n",
       "      <th></th>\n",
       "      <th></th>\n",
       "      <th></th>\n",
       "      <th></th>\n",
       "    </tr>\n",
       "  </thead>\n",
       "  <tbody>\n",
       "    <tr>\n",
       "      <th>2019-12-09 00:00:00-05:00</th>\n",
       "      <td>112.69</td>\n",
       "      <td>112.72</td>\n",
       "      <td>112.565</td>\n",
       "      <td>112.58</td>\n",
       "      <td>4416131</td>\n",
       "      <td>NaN</td>\n",
       "      <td>314.44</td>\n",
       "      <td>315.18</td>\n",
       "      <td>313.800</td>\n",
       "      <td>313.87</td>\n",
       "      <td>28676682</td>\n",
       "      <td>NaN</td>\n",
       "    </tr>\n",
       "    <tr>\n",
       "      <th>2019-12-10 00:00:00-05:00</th>\n",
       "      <td>112.67</td>\n",
       "      <td>112.67</td>\n",
       "      <td>112.490</td>\n",
       "      <td>112.54</td>\n",
       "      <td>2689383</td>\n",
       "      <td>-0.000355</td>\n",
       "      <td>313.82</td>\n",
       "      <td>314.55</td>\n",
       "      <td>312.810</td>\n",
       "      <td>313.55</td>\n",
       "      <td>40282469</td>\n",
       "      <td>-0.001020</td>\n",
       "    </tr>\n",
       "    <tr>\n",
       "      <th>2019-12-11 00:00:00-05:00</th>\n",
       "      <td>112.67</td>\n",
       "      <td>112.90</td>\n",
       "      <td>112.610</td>\n",
       "      <td>112.84</td>\n",
       "      <td>2184383</td>\n",
       "      <td>0.002666</td>\n",
       "      <td>314.03</td>\n",
       "      <td>314.70</td>\n",
       "      <td>313.595</td>\n",
       "      <td>314.41</td>\n",
       "      <td>40711586</td>\n",
       "      <td>0.002743</td>\n",
       "    </tr>\n",
       "    <tr>\n",
       "      <th>2019-12-12 00:00:00-05:00</th>\n",
       "      <td>112.79</td>\n",
       "      <td>112.79</td>\n",
       "      <td>112.220</td>\n",
       "      <td>112.36</td>\n",
       "      <td>4359234</td>\n",
       "      <td>-0.004254</td>\n",
       "      <td>314.43</td>\n",
       "      <td>317.99</td>\n",
       "      <td>314.170</td>\n",
       "      <td>317.14</td>\n",
       "      <td>78481712</td>\n",
       "      <td>0.008683</td>\n",
       "    </tr>\n",
       "    <tr>\n",
       "      <th>2019-12-13 00:00:00-05:00</th>\n",
       "      <td>112.58</td>\n",
       "      <td>112.86</td>\n",
       "      <td>112.400</td>\n",
       "      <td>112.80</td>\n",
       "      <td>3251499</td>\n",
       "      <td>0.003916</td>\n",
       "      <td>316.87</td>\n",
       "      <td>318.67</td>\n",
       "      <td>316.020</td>\n",
       "      <td>317.28</td>\n",
       "      <td>64520010</td>\n",
       "      <td>0.000441</td>\n",
       "    </tr>\n",
       "  </tbody>\n",
       "</table>\n",
       "</div>"
      ],
      "text/plain": [
       "                              AGG                                    \\\n",
       "                             open    high      low   close   volume   \n",
       "time                                                                  \n",
       "2019-12-09 00:00:00-05:00  112.69  112.72  112.565  112.58  4416131   \n",
       "2019-12-10 00:00:00-05:00  112.67  112.67  112.490  112.54  2689383   \n",
       "2019-12-11 00:00:00-05:00  112.67  112.90  112.610  112.84  2184383   \n",
       "2019-12-12 00:00:00-05:00  112.79  112.79  112.220  112.36  4359234   \n",
       "2019-12-13 00:00:00-05:00  112.58  112.86  112.400  112.80  3251499   \n",
       "\n",
       "                                           SPY                           \\\n",
       "                          daily_return    open    high      low   close   \n",
       "time                                                                      \n",
       "2019-12-09 00:00:00-05:00          NaN  314.44  315.18  313.800  313.87   \n",
       "2019-12-10 00:00:00-05:00    -0.000355  313.82  314.55  312.810  313.55   \n",
       "2019-12-11 00:00:00-05:00     0.002666  314.03  314.70  313.595  314.41   \n",
       "2019-12-12 00:00:00-05:00    -0.004254  314.43  317.99  314.170  317.14   \n",
       "2019-12-13 00:00:00-05:00     0.003916  316.87  318.67  316.020  317.28   \n",
       "\n",
       "                                                  \n",
       "                             volume daily_return  \n",
       "time                                              \n",
       "2019-12-09 00:00:00-05:00  28676682          NaN  \n",
       "2019-12-10 00:00:00-05:00  40282469    -0.001020  \n",
       "2019-12-11 00:00:00-05:00  40711586     0.002743  \n",
       "2019-12-12 00:00:00-05:00  78481712     0.008683  \n",
       "2019-12-13 00:00:00-05:00  64520010     0.000441  "
      ]
     },
     "execution_count": 150,
     "metadata": {},
     "output_type": "execute_result"
    }
   ],
   "source": [
    "# Configure the Monte Carlo simulation to forecast 30 years cumulative returns\n",
    "# The weights should be split 40% to AGG and 60% to SPY.\n",
    "# Run 500 samples.\n",
    "mc_thirty_year = MCSimulation(\n",
    "    portfolio_data = part_two_prices_df,\n",
    "    weights = [.60,.40],\n",
    "    num_simulation = 500,\n",
    "    num_trading_days = 252*30\n",
    ")\n",
    "\n",
    "# Review the simulation input data\n",
    "mc_thirty_year.portfolio_data.head()"
   ]
  },
  {
   "cell_type": "code",
   "execution_count": 151,
   "metadata": {},
   "outputs": [
    {
     "name": "stdout",
     "output_type": "stream",
     "text": [
      "Running Monte Carlo simulation number 0.\n",
      "Running Monte Carlo simulation number 10.\n",
      "Running Monte Carlo simulation number 20.\n",
      "Running Monte Carlo simulation number 30.\n",
      "Running Monte Carlo simulation number 40.\n",
      "Running Monte Carlo simulation number 50.\n",
      "Running Monte Carlo simulation number 60.\n",
      "Running Monte Carlo simulation number 70.\n",
      "Running Monte Carlo simulation number 80.\n",
      "Running Monte Carlo simulation number 90.\n",
      "Running Monte Carlo simulation number 100.\n",
      "Running Monte Carlo simulation number 110.\n",
      "Running Monte Carlo simulation number 120.\n",
      "Running Monte Carlo simulation number 130.\n",
      "Running Monte Carlo simulation number 140.\n",
      "Running Monte Carlo simulation number 150.\n",
      "Running Monte Carlo simulation number 160.\n",
      "Running Monte Carlo simulation number 170.\n",
      "Running Monte Carlo simulation number 180.\n",
      "Running Monte Carlo simulation number 190.\n",
      "Running Monte Carlo simulation number 200.\n",
      "Running Monte Carlo simulation number 210.\n",
      "Running Monte Carlo simulation number 220.\n",
      "Running Monte Carlo simulation number 230.\n",
      "Running Monte Carlo simulation number 240.\n",
      "Running Monte Carlo simulation number 250.\n",
      "Running Monte Carlo simulation number 260.\n",
      "Running Monte Carlo simulation number 270.\n",
      "Running Monte Carlo simulation number 280.\n",
      "Running Monte Carlo simulation number 290.\n",
      "Running Monte Carlo simulation number 300.\n",
      "Running Monte Carlo simulation number 310.\n",
      "Running Monte Carlo simulation number 320.\n",
      "Running Monte Carlo simulation number 330.\n",
      "Running Monte Carlo simulation number 340.\n",
      "Running Monte Carlo simulation number 350.\n",
      "Running Monte Carlo simulation number 360.\n",
      "Running Monte Carlo simulation number 370.\n",
      "Running Monte Carlo simulation number 380.\n",
      "Running Monte Carlo simulation number 390.\n",
      "Running Monte Carlo simulation number 400.\n",
      "Running Monte Carlo simulation number 410.\n",
      "Running Monte Carlo simulation number 420.\n",
      "Running Monte Carlo simulation number 430.\n",
      "Running Monte Carlo simulation number 440.\n",
      "Running Monte Carlo simulation number 450.\n",
      "Running Monte Carlo simulation number 460.\n",
      "Running Monte Carlo simulation number 470.\n",
      "Running Monte Carlo simulation number 480.\n",
      "Running Monte Carlo simulation number 490.\n"
     ]
    },
    {
     "data": {
      "text/html": [
       "<div>\n",
       "<style scoped>\n",
       "    .dataframe tbody tr th:only-of-type {\n",
       "        vertical-align: middle;\n",
       "    }\n",
       "\n",
       "    .dataframe tbody tr th {\n",
       "        vertical-align: top;\n",
       "    }\n",
       "\n",
       "    .dataframe thead th {\n",
       "        text-align: right;\n",
       "    }\n",
       "</style>\n",
       "<table border=\"1\" class=\"dataframe\">\n",
       "  <thead>\n",
       "    <tr style=\"text-align: right;\">\n",
       "      <th></th>\n",
       "      <th>0</th>\n",
       "      <th>1</th>\n",
       "      <th>2</th>\n",
       "      <th>3</th>\n",
       "      <th>4</th>\n",
       "      <th>5</th>\n",
       "      <th>6</th>\n",
       "      <th>7</th>\n",
       "      <th>8</th>\n",
       "      <th>9</th>\n",
       "      <th>...</th>\n",
       "      <th>490</th>\n",
       "      <th>491</th>\n",
       "      <th>492</th>\n",
       "      <th>493</th>\n",
       "      <th>494</th>\n",
       "      <th>495</th>\n",
       "      <th>496</th>\n",
       "      <th>497</th>\n",
       "      <th>498</th>\n",
       "      <th>499</th>\n",
       "    </tr>\n",
       "  </thead>\n",
       "  <tbody>\n",
       "    <tr>\n",
       "      <th>0</th>\n",
       "      <td>1.000000</td>\n",
       "      <td>1.000000</td>\n",
       "      <td>1.000000</td>\n",
       "      <td>1.000000</td>\n",
       "      <td>1.000000</td>\n",
       "      <td>1.000000</td>\n",
       "      <td>1.000000</td>\n",
       "      <td>1.000000</td>\n",
       "      <td>1.000000</td>\n",
       "      <td>1.000000</td>\n",
       "      <td>...</td>\n",
       "      <td>1.000000</td>\n",
       "      <td>1.000000</td>\n",
       "      <td>1.000000</td>\n",
       "      <td>1.000000</td>\n",
       "      <td>1.000000</td>\n",
       "      <td>1.000000</td>\n",
       "      <td>1.000000</td>\n",
       "      <td>1.000000</td>\n",
       "      <td>1.000000</td>\n",
       "      <td>1.000000</td>\n",
       "    </tr>\n",
       "    <tr>\n",
       "      <th>1</th>\n",
       "      <td>1.005564</td>\n",
       "      <td>0.979309</td>\n",
       "      <td>0.995778</td>\n",
       "      <td>0.994597</td>\n",
       "      <td>0.988419</td>\n",
       "      <td>1.014576</td>\n",
       "      <td>1.009121</td>\n",
       "      <td>1.005790</td>\n",
       "      <td>0.998208</td>\n",
       "      <td>1.003028</td>\n",
       "      <td>...</td>\n",
       "      <td>1.006825</td>\n",
       "      <td>1.015835</td>\n",
       "      <td>0.997781</td>\n",
       "      <td>1.008593</td>\n",
       "      <td>0.971056</td>\n",
       "      <td>0.997967</td>\n",
       "      <td>1.008204</td>\n",
       "      <td>0.993257</td>\n",
       "      <td>0.983661</td>\n",
       "      <td>0.997409</td>\n",
       "    </tr>\n",
       "    <tr>\n",
       "      <th>2</th>\n",
       "      <td>1.032853</td>\n",
       "      <td>0.970206</td>\n",
       "      <td>1.005021</td>\n",
       "      <td>1.016661</td>\n",
       "      <td>0.990780</td>\n",
       "      <td>1.034354</td>\n",
       "      <td>1.024104</td>\n",
       "      <td>1.000696</td>\n",
       "      <td>0.980477</td>\n",
       "      <td>1.013281</td>\n",
       "      <td>...</td>\n",
       "      <td>0.996650</td>\n",
       "      <td>1.025346</td>\n",
       "      <td>0.993764</td>\n",
       "      <td>0.990304</td>\n",
       "      <td>0.979082</td>\n",
       "      <td>1.009742</td>\n",
       "      <td>1.002377</td>\n",
       "      <td>0.991319</td>\n",
       "      <td>0.994810</td>\n",
       "      <td>1.021754</td>\n",
       "    </tr>\n",
       "    <tr>\n",
       "      <th>3</th>\n",
       "      <td>1.042144</td>\n",
       "      <td>0.966434</td>\n",
       "      <td>1.003787</td>\n",
       "      <td>1.021045</td>\n",
       "      <td>0.993004</td>\n",
       "      <td>1.025235</td>\n",
       "      <td>1.025756</td>\n",
       "      <td>1.004085</td>\n",
       "      <td>1.002755</td>\n",
       "      <td>0.999555</td>\n",
       "      <td>...</td>\n",
       "      <td>0.986329</td>\n",
       "      <td>1.020697</td>\n",
       "      <td>0.992025</td>\n",
       "      <td>0.985649</td>\n",
       "      <td>0.973436</td>\n",
       "      <td>1.023489</td>\n",
       "      <td>1.000773</td>\n",
       "      <td>1.002346</td>\n",
       "      <td>0.993747</td>\n",
       "      <td>1.014343</td>\n",
       "    </tr>\n",
       "    <tr>\n",
       "      <th>4</th>\n",
       "      <td>1.054609</td>\n",
       "      <td>0.957123</td>\n",
       "      <td>1.032765</td>\n",
       "      <td>1.011937</td>\n",
       "      <td>0.984534</td>\n",
       "      <td>1.031393</td>\n",
       "      <td>1.036466</td>\n",
       "      <td>1.010794</td>\n",
       "      <td>1.001875</td>\n",
       "      <td>0.971298</td>\n",
       "      <td>...</td>\n",
       "      <td>0.992270</td>\n",
       "      <td>1.006769</td>\n",
       "      <td>0.989871</td>\n",
       "      <td>0.987894</td>\n",
       "      <td>0.979301</td>\n",
       "      <td>1.007829</td>\n",
       "      <td>1.013826</td>\n",
       "      <td>0.993622</td>\n",
       "      <td>1.016118</td>\n",
       "      <td>1.019525</td>\n",
       "    </tr>\n",
       "    <tr>\n",
       "      <th>...</th>\n",
       "      <td>...</td>\n",
       "      <td>...</td>\n",
       "      <td>...</td>\n",
       "      <td>...</td>\n",
       "      <td>...</td>\n",
       "      <td>...</td>\n",
       "      <td>...</td>\n",
       "      <td>...</td>\n",
       "      <td>...</td>\n",
       "      <td>...</td>\n",
       "      <td>...</td>\n",
       "      <td>...</td>\n",
       "      <td>...</td>\n",
       "      <td>...</td>\n",
       "      <td>...</td>\n",
       "      <td>...</td>\n",
       "      <td>...</td>\n",
       "      <td>...</td>\n",
       "      <td>...</td>\n",
       "      <td>...</td>\n",
       "      <td>...</td>\n",
       "    </tr>\n",
       "    <tr>\n",
       "      <th>7556</th>\n",
       "      <td>0.865107</td>\n",
       "      <td>0.766617</td>\n",
       "      <td>3.217288</td>\n",
       "      <td>0.573893</td>\n",
       "      <td>0.130288</td>\n",
       "      <td>2.191131</td>\n",
       "      <td>0.037555</td>\n",
       "      <td>1.520256</td>\n",
       "      <td>0.057148</td>\n",
       "      <td>0.144475</td>\n",
       "      <td>...</td>\n",
       "      <td>1.511016</td>\n",
       "      <td>0.359057</td>\n",
       "      <td>0.249808</td>\n",
       "      <td>0.762801</td>\n",
       "      <td>0.531247</td>\n",
       "      <td>0.815286</td>\n",
       "      <td>1.983518</td>\n",
       "      <td>0.111003</td>\n",
       "      <td>0.392467</td>\n",
       "      <td>1.399305</td>\n",
       "    </tr>\n",
       "    <tr>\n",
       "      <th>7557</th>\n",
       "      <td>0.865365</td>\n",
       "      <td>0.771901</td>\n",
       "      <td>3.270929</td>\n",
       "      <td>0.577952</td>\n",
       "      <td>0.131698</td>\n",
       "      <td>2.196793</td>\n",
       "      <td>0.037537</td>\n",
       "      <td>1.533163</td>\n",
       "      <td>0.056104</td>\n",
       "      <td>0.145687</td>\n",
       "      <td>...</td>\n",
       "      <td>1.515026</td>\n",
       "      <td>0.354705</td>\n",
       "      <td>0.250119</td>\n",
       "      <td>0.777521</td>\n",
       "      <td>0.522379</td>\n",
       "      <td>0.800439</td>\n",
       "      <td>2.045926</td>\n",
       "      <td>0.111870</td>\n",
       "      <td>0.398158</td>\n",
       "      <td>1.412064</td>\n",
       "    </tr>\n",
       "    <tr>\n",
       "      <th>7558</th>\n",
       "      <td>0.877302</td>\n",
       "      <td>0.764718</td>\n",
       "      <td>3.280900</td>\n",
       "      <td>0.584451</td>\n",
       "      <td>0.129585</td>\n",
       "      <td>2.188574</td>\n",
       "      <td>0.037165</td>\n",
       "      <td>1.510974</td>\n",
       "      <td>0.056188</td>\n",
       "      <td>0.146291</td>\n",
       "      <td>...</td>\n",
       "      <td>1.535286</td>\n",
       "      <td>0.365347</td>\n",
       "      <td>0.248050</td>\n",
       "      <td>0.775911</td>\n",
       "      <td>0.529414</td>\n",
       "      <td>0.802093</td>\n",
       "      <td>2.031897</td>\n",
       "      <td>0.111445</td>\n",
       "      <td>0.393340</td>\n",
       "      <td>1.405057</td>\n",
       "    </tr>\n",
       "    <tr>\n",
       "      <th>7559</th>\n",
       "      <td>0.897809</td>\n",
       "      <td>0.779561</td>\n",
       "      <td>3.229083</td>\n",
       "      <td>0.587197</td>\n",
       "      <td>0.131419</td>\n",
       "      <td>2.177014</td>\n",
       "      <td>0.037628</td>\n",
       "      <td>1.541641</td>\n",
       "      <td>0.056613</td>\n",
       "      <td>0.145674</td>\n",
       "      <td>...</td>\n",
       "      <td>1.544096</td>\n",
       "      <td>0.364509</td>\n",
       "      <td>0.250021</td>\n",
       "      <td>0.756674</td>\n",
       "      <td>0.541406</td>\n",
       "      <td>0.793671</td>\n",
       "      <td>2.041582</td>\n",
       "      <td>0.114197</td>\n",
       "      <td>0.391293</td>\n",
       "      <td>1.391667</td>\n",
       "    </tr>\n",
       "    <tr>\n",
       "      <th>7560</th>\n",
       "      <td>0.878293</td>\n",
       "      <td>0.765100</td>\n",
       "      <td>3.238038</td>\n",
       "      <td>0.586959</td>\n",
       "      <td>0.131602</td>\n",
       "      <td>2.205730</td>\n",
       "      <td>0.036483</td>\n",
       "      <td>1.532035</td>\n",
       "      <td>0.058087</td>\n",
       "      <td>0.143722</td>\n",
       "      <td>...</td>\n",
       "      <td>1.546063</td>\n",
       "      <td>0.358617</td>\n",
       "      <td>0.252323</td>\n",
       "      <td>0.765306</td>\n",
       "      <td>0.539986</td>\n",
       "      <td>0.796056</td>\n",
       "      <td>2.068082</td>\n",
       "      <td>0.114552</td>\n",
       "      <td>0.398421</td>\n",
       "      <td>1.422128</td>\n",
       "    </tr>\n",
       "  </tbody>\n",
       "</table>\n",
       "<p>7561 rows × 500 columns</p>\n",
       "</div>"
      ],
      "text/plain": [
       "           0         1         2         3         4         5         6    \\\n",
       "0     1.000000  1.000000  1.000000  1.000000  1.000000  1.000000  1.000000   \n",
       "1     1.005564  0.979309  0.995778  0.994597  0.988419  1.014576  1.009121   \n",
       "2     1.032853  0.970206  1.005021  1.016661  0.990780  1.034354  1.024104   \n",
       "3     1.042144  0.966434  1.003787  1.021045  0.993004  1.025235  1.025756   \n",
       "4     1.054609  0.957123  1.032765  1.011937  0.984534  1.031393  1.036466   \n",
       "...        ...       ...       ...       ...       ...       ...       ...   \n",
       "7556  0.865107  0.766617  3.217288  0.573893  0.130288  2.191131  0.037555   \n",
       "7557  0.865365  0.771901  3.270929  0.577952  0.131698  2.196793  0.037537   \n",
       "7558  0.877302  0.764718  3.280900  0.584451  0.129585  2.188574  0.037165   \n",
       "7559  0.897809  0.779561  3.229083  0.587197  0.131419  2.177014  0.037628   \n",
       "7560  0.878293  0.765100  3.238038  0.586959  0.131602  2.205730  0.036483   \n",
       "\n",
       "           7         8         9    ...       490       491       492  \\\n",
       "0     1.000000  1.000000  1.000000  ...  1.000000  1.000000  1.000000   \n",
       "1     1.005790  0.998208  1.003028  ...  1.006825  1.015835  0.997781   \n",
       "2     1.000696  0.980477  1.013281  ...  0.996650  1.025346  0.993764   \n",
       "3     1.004085  1.002755  0.999555  ...  0.986329  1.020697  0.992025   \n",
       "4     1.010794  1.001875  0.971298  ...  0.992270  1.006769  0.989871   \n",
       "...        ...       ...       ...  ...       ...       ...       ...   \n",
       "7556  1.520256  0.057148  0.144475  ...  1.511016  0.359057  0.249808   \n",
       "7557  1.533163  0.056104  0.145687  ...  1.515026  0.354705  0.250119   \n",
       "7558  1.510974  0.056188  0.146291  ...  1.535286  0.365347  0.248050   \n",
       "7559  1.541641  0.056613  0.145674  ...  1.544096  0.364509  0.250021   \n",
       "7560  1.532035  0.058087  0.143722  ...  1.546063  0.358617  0.252323   \n",
       "\n",
       "           493       494       495       496       497       498       499  \n",
       "0     1.000000  1.000000  1.000000  1.000000  1.000000  1.000000  1.000000  \n",
       "1     1.008593  0.971056  0.997967  1.008204  0.993257  0.983661  0.997409  \n",
       "2     0.990304  0.979082  1.009742  1.002377  0.991319  0.994810  1.021754  \n",
       "3     0.985649  0.973436  1.023489  1.000773  1.002346  0.993747  1.014343  \n",
       "4     0.987894  0.979301  1.007829  1.013826  0.993622  1.016118  1.019525  \n",
       "...        ...       ...       ...       ...       ...       ...       ...  \n",
       "7556  0.762801  0.531247  0.815286  1.983518  0.111003  0.392467  1.399305  \n",
       "7557  0.777521  0.522379  0.800439  2.045926  0.111870  0.398158  1.412064  \n",
       "7558  0.775911  0.529414  0.802093  2.031897  0.111445  0.393340  1.405057  \n",
       "7559  0.756674  0.541406  0.793671  2.041582  0.114197  0.391293  1.391667  \n",
       "7560  0.765306  0.539986  0.796056  2.068082  0.114552  0.398421  1.422128  \n",
       "\n",
       "[7561 rows x 500 columns]"
      ]
     },
     "execution_count": 151,
     "metadata": {},
     "output_type": "execute_result"
    }
   ],
   "source": [
    "# Run the Monte Carlo simulation to forecast 30 years cumulative returns\n",
    "mc_thirty_year.calc_cumulative_return()"
   ]
  },
  {
   "cell_type": "code",
   "execution_count": 152,
   "metadata": {},
   "outputs": [
    {
     "data": {
      "image/png": "[encoded data removed]",
      "text/plain": [
       "<Figure size 432x288 with 1 Axes>"
      ]
     },
     "metadata": {
      "needs_background": "light"
     },
     "output_type": "display_data"
    }
   ],
   "source": [
    "# Visualize the 30-year Monte Carlo simulation by creating an\n",
    "# overlay line plot\n",
    "#call the plot simulation and save the graph to the folder\n",
    "MC_sim_line_plot = mc_thirty_year.plot_simulation()\n",
    "MC_sim_line_plot.get_figure().savefig(\"MC_thirty__sim_plot.png\", bbox_inches=\"tight\")\n"
   ]
  },
  {
   "cell_type": "markdown",
   "metadata": {},
   "source": [
    "#### Step 3: Plot the probability distribution of the Monte Carlo simulation."
   ]
  },
  {
   "cell_type": "code",
   "execution_count": 153,
   "metadata": {},
   "outputs": [
    {
     "data": {
      "image/png": "[encoded data removed]",
      "text/plain": [
       "<Figure size 432x288 with 1 Axes>"
      ]
     },
     "metadata": {
      "needs_background": "light"
     },
     "output_type": "display_data"
    }
   ],
   "source": [
    "# Visualize the probability distribution of the 30-year Monte Carlo simulation \n",
    "# by plotting a histogram and saving the file to folder\n",
    "MC_sim_dist_plot = mc_thirty_year.plot_distribution()\n",
    "MC_sim_dist_plot.get_figure().savefig('MC_thirty_year_dist_plot.png',bbox_inches='tight')\n"
   ]
  },
  {
   "cell_type": "markdown",
   "metadata": {},
   "source": [
    "#### Step 4: Generate the summary statistics for the Monte Carlo simulation."
   ]
  },
  {
   "cell_type": "code",
   "execution_count": 154,
   "metadata": {},
   "outputs": [
    {
     "name": "stdout",
     "output_type": "stream",
     "text": [
      "count           500.000000\n",
      "mean              1.140719\n",
      "std               2.025226\n",
      "min               0.012505\n",
      "25%               0.252261\n",
      "50%               0.543851\n",
      "75%               1.232723\n",
      "max              19.209980\n",
      "95% CI Lower      0.056875\n",
      "95% CI Upper      6.236593\n",
      "Name: 7560, dtype: float64\n"
     ]
    }
   ],
   "source": [
    "# Generate summary statistics from the 30-year Monte Carlo simulation results\n",
    "# Save the results as a variable\n",
    "\n",
    "MC_summary_statistics = mc_thirty_year.summarize_cumulative_return()\n",
    "\n",
    "# Print summary statistics Series\n",
    "# Review the 30-year Monte Carlo summary statistics\n",
    "print(MC_summary_statistics)"
   ]
  },
  {
   "cell_type": "markdown",
   "metadata": {},
   "source": [
    "### Analyze the Retirement Portfolio Forecasts\n",
    "\n",
    "Using the current value of only the stock and bond portion of the member's portfolio and the summary statistics that you generated from the Monte Carlo simulation, answer the following question in your Jupyter notebook:\n",
    "\n",
    "-  What are the lower and upper bounds for the expected value of the portfolio with a 95% confidence interval?\n"
   ]
  },
  {
   "cell_type": "code",
   "execution_count": 155,
   "metadata": {},
   "outputs": [],
   "source": [
    "# Print the current balance of the stock and bond portion of the members portfolio\n",
    "\n"
   ]
  },
  {
   "cell_type": "code",
   "execution_count": 156,
   "metadata": {},
   "outputs": [
    {
     "name": "stdout",
     "output_type": "stream",
     "text": [
      "568.7489641406942\n",
      "62365.93094139405\n"
     ]
    }
   ],
   "source": [
    "# Use the lower and upper `95%` confidence intervals to calculate the range of the possible outcomes for the current stock/bond portfolio\n",
    "ci_lower_thirty_cumulative_return = MC_summary_statistics[8] * 10000# YOUR CODE HERE\n",
    "ci_upper_thirty_cumulative_return = MC_summary_statistics[9] * 10000# YOUR CODE HERE\n",
    "\n",
    "# Print the result of your calculations\n",
    "print(ci_lower_thirty_cumulative_return)\n",
    "print(ci_upper_thirty_cumulative_return)"
   ]
  },
  {
   "cell_type": "markdown",
   "metadata": {},
   "source": [
    "### Forecast Cumulative Returns in 10 Years\n",
    "\n",
    "The CTO of the credit union is impressed with your work on these planning tools but wonders if 30 years is a long time to wait until retirement. So, your next task is to adjust the retirement portfolio and run a new Monte Carlo simulation to find out if the changes will allow members to retire earlier.\n",
    "\n",
    "For this new Monte Carlo simulation, do the following: \n",
    "\n",
    "- Forecast the cumulative returns for 10 years from now. Because of the shortened investment horizon (30 years to 10 years), the portfolio needs to invest more heavily in the riskier asset&mdash;that is, stock&mdash;to help accumulate wealth for retirement. \n",
    "\n",
    "- Adjust the weights of the retirement portfolio so that the composition for the Monte Carlo simulation consists of 20% bonds and 80% stocks. \n",
    "\n",
    "- Run the simulation over 500 samples, and use the same data that the API call to Alpaca generated.\n",
    "\n",
    "- Based on the new Monte Carlo simulation, answer the following questions in your Jupyter notebook:\n",
    "\n",
    "    - Using the current value of only the stock and bond portion of the member's portfolio and the summary statistics that you generated from the new Monte Carlo simulation, what are the lower and upper bounds for the expected value of the portfolio (with the new weights) with a 95% confidence interval?\n",
    "\n",
    "    - Will weighting the portfolio more heavily toward stocks allow the credit union members to retire after only 10 years?\n"
   ]
  },
  {
   "cell_type": "code",
   "execution_count": 157,
   "metadata": {},
   "outputs": [
    {
     "data": {
      "text/html": [
       "<div>\n",
       "<style scoped>\n",
       "    .dataframe tbody tr th:only-of-type {\n",
       "        vertical-align: middle;\n",
       "    }\n",
       "\n",
       "    .dataframe tbody tr th {\n",
       "        vertical-align: top;\n",
       "    }\n",
       "\n",
       "    .dataframe thead tr th {\n",
       "        text-align: left;\n",
       "    }\n",
       "\n",
       "    .dataframe thead tr:last-of-type th {\n",
       "        text-align: right;\n",
       "    }\n",
       "</style>\n",
       "<table border=\"1\" class=\"dataframe\">\n",
       "  <thead>\n",
       "    <tr>\n",
       "      <th></th>\n",
       "      <th colspan=\"6\" halign=\"left\">AGG</th>\n",
       "      <th colspan=\"6\" halign=\"left\">SPY</th>\n",
       "    </tr>\n",
       "    <tr>\n",
       "      <th></th>\n",
       "      <th>open</th>\n",
       "      <th>high</th>\n",
       "      <th>low</th>\n",
       "      <th>close</th>\n",
       "      <th>volume</th>\n",
       "      <th>daily_return</th>\n",
       "      <th>open</th>\n",
       "      <th>high</th>\n",
       "      <th>low</th>\n",
       "      <th>close</th>\n",
       "      <th>volume</th>\n",
       "      <th>daily_return</th>\n",
       "    </tr>\n",
       "    <tr>\n",
       "      <th>time</th>\n",
       "      <th></th>\n",
       "      <th></th>\n",
       "      <th></th>\n",
       "      <th></th>\n",
       "      <th></th>\n",
       "      <th></th>\n",
       "      <th></th>\n",
       "      <th></th>\n",
       "      <th></th>\n",
       "      <th></th>\n",
       "      <th></th>\n",
       "      <th></th>\n",
       "    </tr>\n",
       "  </thead>\n",
       "  <tbody>\n",
       "    <tr>\n",
       "      <th>2019-12-09 00:00:00-05:00</th>\n",
       "      <td>112.69</td>\n",
       "      <td>112.72</td>\n",
       "      <td>112.565</td>\n",
       "      <td>112.58</td>\n",
       "      <td>4416131</td>\n",
       "      <td>NaN</td>\n",
       "      <td>314.44</td>\n",
       "      <td>315.18</td>\n",
       "      <td>313.800</td>\n",
       "      <td>313.87</td>\n",
       "      <td>28676682</td>\n",
       "      <td>NaN</td>\n",
       "    </tr>\n",
       "    <tr>\n",
       "      <th>2019-12-10 00:00:00-05:00</th>\n",
       "      <td>112.67</td>\n",
       "      <td>112.67</td>\n",
       "      <td>112.490</td>\n",
       "      <td>112.54</td>\n",
       "      <td>2689383</td>\n",
       "      <td>-0.000355</td>\n",
       "      <td>313.82</td>\n",
       "      <td>314.55</td>\n",
       "      <td>312.810</td>\n",
       "      <td>313.55</td>\n",
       "      <td>40282469</td>\n",
       "      <td>-0.001020</td>\n",
       "    </tr>\n",
       "    <tr>\n",
       "      <th>2019-12-11 00:00:00-05:00</th>\n",
       "      <td>112.67</td>\n",
       "      <td>112.90</td>\n",
       "      <td>112.610</td>\n",
       "      <td>112.84</td>\n",
       "      <td>2184383</td>\n",
       "      <td>0.002666</td>\n",
       "      <td>314.03</td>\n",
       "      <td>314.70</td>\n",
       "      <td>313.595</td>\n",
       "      <td>314.41</td>\n",
       "      <td>40711586</td>\n",
       "      <td>0.002743</td>\n",
       "    </tr>\n",
       "    <tr>\n",
       "      <th>2019-12-12 00:00:00-05:00</th>\n",
       "      <td>112.79</td>\n",
       "      <td>112.79</td>\n",
       "      <td>112.220</td>\n",
       "      <td>112.36</td>\n",
       "      <td>4359234</td>\n",
       "      <td>-0.004254</td>\n",
       "      <td>314.43</td>\n",
       "      <td>317.99</td>\n",
       "      <td>314.170</td>\n",
       "      <td>317.14</td>\n",
       "      <td>78481712</td>\n",
       "      <td>0.008683</td>\n",
       "    </tr>\n",
       "    <tr>\n",
       "      <th>2019-12-13 00:00:00-05:00</th>\n",
       "      <td>112.58</td>\n",
       "      <td>112.86</td>\n",
       "      <td>112.400</td>\n",
       "      <td>112.80</td>\n",
       "      <td>3251499</td>\n",
       "      <td>0.003916</td>\n",
       "      <td>316.87</td>\n",
       "      <td>318.67</td>\n",
       "      <td>316.020</td>\n",
       "      <td>317.28</td>\n",
       "      <td>64520010</td>\n",
       "      <td>0.000441</td>\n",
       "    </tr>\n",
       "  </tbody>\n",
       "</table>\n",
       "</div>"
      ],
      "text/plain": [
       "                              AGG                                    \\\n",
       "                             open    high      low   close   volume   \n",
       "time                                                                  \n",
       "2019-12-09 00:00:00-05:00  112.69  112.72  112.565  112.58  4416131   \n",
       "2019-12-10 00:00:00-05:00  112.67  112.67  112.490  112.54  2689383   \n",
       "2019-12-11 00:00:00-05:00  112.67  112.90  112.610  112.84  2184383   \n",
       "2019-12-12 00:00:00-05:00  112.79  112.79  112.220  112.36  4359234   \n",
       "2019-12-13 00:00:00-05:00  112.58  112.86  112.400  112.80  3251499   \n",
       "\n",
       "                                           SPY                           \\\n",
       "                          daily_return    open    high      low   close   \n",
       "time                                                                      \n",
       "2019-12-09 00:00:00-05:00          NaN  314.44  315.18  313.800  313.87   \n",
       "2019-12-10 00:00:00-05:00    -0.000355  313.82  314.55  312.810  313.55   \n",
       "2019-12-11 00:00:00-05:00     0.002666  314.03  314.70  313.595  314.41   \n",
       "2019-12-12 00:00:00-05:00    -0.004254  314.43  317.99  314.170  317.14   \n",
       "2019-12-13 00:00:00-05:00     0.003916  316.87  318.67  316.020  317.28   \n",
       "\n",
       "                                                  \n",
       "                             volume daily_return  \n",
       "time                                              \n",
       "2019-12-09 00:00:00-05:00  28676682          NaN  \n",
       "2019-12-10 00:00:00-05:00  40282469    -0.001020  \n",
       "2019-12-11 00:00:00-05:00  40711586     0.002743  \n",
       "2019-12-12 00:00:00-05:00  78481712     0.008683  \n",
       "2019-12-13 00:00:00-05:00  64520010     0.000441  "
      ]
     },
     "execution_count": 157,
     "metadata": {},
     "output_type": "execute_result"
    }
   ],
   "source": [
    "# Configure a Monte Carlo simulation to forecast 10 years cumulative returns\n",
    "# The weights should be split 20% to AGG and 80% to SPY.\n",
    "# Run 500 samples.\n",
    "#similar to 30 year simulation, but set to 10 years with different weights\n",
    "mc_ten_year = MCSimulation(\n",
    "    portfolio_data = part_two_prices_df,\n",
    "    weights = [.80,.20],\n",
    "    num_simulation = 500,\n",
    "    num_trading_days = 252*10\n",
    ")\n",
    "# Review the simulation input data\n",
    "mc_ten_year.portfolio_data.head()\n",
    "\n"
   ]
  },
  {
   "cell_type": "code",
   "execution_count": 158,
   "metadata": {},
   "outputs": [
    {
     "name": "stdout",
     "output_type": "stream",
     "text": [
      "Running Monte Carlo simulation number 0.\n",
      "Running Monte Carlo simulation number 10.\n",
      "Running Monte Carlo simulation number 20.\n",
      "Running Monte Carlo simulation number 30.\n",
      "Running Monte Carlo simulation number 40.\n",
      "Running Monte Carlo simulation number 50.\n",
      "Running Monte Carlo simulation number 60.\n",
      "Running Monte Carlo simulation number 70.\n",
      "Running Monte Carlo simulation number 80.\n",
      "Running Monte Carlo simulation number 90.\n",
      "Running Monte Carlo simulation number 100.\n",
      "Running Monte Carlo simulation number 110.\n",
      "Running Monte Carlo simulation number 120.\n",
      "Running Monte Carlo simulation number 130.\n",
      "Running Monte Carlo simulation number 140.\n",
      "Running Monte Carlo simulation number 150.\n",
      "Running Monte Carlo simulation number 160.\n",
      "Running Monte Carlo simulation number 170.\n",
      "Running Monte Carlo simulation number 180.\n",
      "Running Monte Carlo simulation number 190.\n",
      "Running Monte Carlo simulation number 200.\n",
      "Running Monte Carlo simulation number 210.\n",
      "Running Monte Carlo simulation number 220.\n",
      "Running Monte Carlo simulation number 230.\n",
      "Running Monte Carlo simulation number 240.\n",
      "Running Monte Carlo simulation number 250.\n",
      "Running Monte Carlo simulation number 260.\n",
      "Running Monte Carlo simulation number 270.\n",
      "Running Monte Carlo simulation number 280.\n",
      "Running Monte Carlo simulation number 290.\n",
      "Running Monte Carlo simulation number 300.\n",
      "Running Monte Carlo simulation number 310.\n",
      "Running Monte Carlo simulation number 320.\n",
      "Running Monte Carlo simulation number 330.\n",
      "Running Monte Carlo simulation number 340.\n",
      "Running Monte Carlo simulation number 350.\n",
      "Running Monte Carlo simulation number 360.\n",
      "Running Monte Carlo simulation number 370.\n",
      "Running Monte Carlo simulation number 380.\n",
      "Running Monte Carlo simulation number 390.\n",
      "Running Monte Carlo simulation number 400.\n",
      "Running Monte Carlo simulation number 410.\n",
      "Running Monte Carlo simulation number 420.\n",
      "Running Monte Carlo simulation number 430.\n",
      "Running Monte Carlo simulation number 440.\n",
      "Running Monte Carlo simulation number 450.\n",
      "Running Monte Carlo simulation number 460.\n",
      "Running Monte Carlo simulation number 470.\n",
      "Running Monte Carlo simulation number 480.\n",
      "Running Monte Carlo simulation number 490.\n"
     ]
    },
    {
     "data": {
      "text/html": [
       "<div>\n",
       "<style scoped>\n",
       "    .dataframe tbody tr th:only-of-type {\n",
       "        vertical-align: middle;\n",
       "    }\n",
       "\n",
       "    .dataframe tbody tr th {\n",
       "        vertical-align: top;\n",
       "    }\n",
       "\n",
       "    .dataframe thead th {\n",
       "        text-align: right;\n",
       "    }\n",
       "</style>\n",
       "<table border=\"1\" class=\"dataframe\">\n",
       "  <thead>\n",
       "    <tr style=\"text-align: right;\">\n",
       "      <th></th>\n",
       "      <th>0</th>\n",
       "      <th>1</th>\n",
       "      <th>2</th>\n",
       "      <th>3</th>\n",
       "      <th>4</th>\n",
       "      <th>5</th>\n",
       "      <th>6</th>\n",
       "      <th>7</th>\n",
       "      <th>8</th>\n",
       "      <th>9</th>\n",
       "      <th>...</th>\n",
       "      <th>490</th>\n",
       "      <th>491</th>\n",
       "      <th>492</th>\n",
       "      <th>493</th>\n",
       "      <th>494</th>\n",
       "      <th>495</th>\n",
       "      <th>496</th>\n",
       "      <th>497</th>\n",
       "      <th>498</th>\n",
       "      <th>499</th>\n",
       "    </tr>\n",
       "  </thead>\n",
       "  <tbody>\n",
       "    <tr>\n",
       "      <th>0</th>\n",
       "      <td>1.000000</td>\n",
       "      <td>1.000000</td>\n",
       "      <td>1.000000</td>\n",
       "      <td>1.000000</td>\n",
       "      <td>1.000000</td>\n",
       "      <td>1.000000</td>\n",
       "      <td>1.000000</td>\n",
       "      <td>1.000000</td>\n",
       "      <td>1.000000</td>\n",
       "      <td>1.000000</td>\n",
       "      <td>...</td>\n",
       "      <td>1.000000</td>\n",
       "      <td>1.000000</td>\n",
       "      <td>1.000000</td>\n",
       "      <td>1.000000</td>\n",
       "      <td>1.000000</td>\n",
       "      <td>1.000000</td>\n",
       "      <td>1.000000</td>\n",
       "      <td>1.000000</td>\n",
       "      <td>1.000000</td>\n",
       "      <td>1.000000</td>\n",
       "    </tr>\n",
       "    <tr>\n",
       "      <th>1</th>\n",
       "      <td>0.996001</td>\n",
       "      <td>1.003471</td>\n",
       "      <td>0.997957</td>\n",
       "      <td>1.000298</td>\n",
       "      <td>1.000492</td>\n",
       "      <td>0.997919</td>\n",
       "      <td>0.993119</td>\n",
       "      <td>0.994452</td>\n",
       "      <td>1.005313</td>\n",
       "      <td>0.981636</td>\n",
       "      <td>...</td>\n",
       "      <td>0.992486</td>\n",
       "      <td>1.004889</td>\n",
       "      <td>1.001529</td>\n",
       "      <td>0.996614</td>\n",
       "      <td>0.993392</td>\n",
       "      <td>1.002200</td>\n",
       "      <td>1.001387</td>\n",
       "      <td>1.000528</td>\n",
       "      <td>0.982002</td>\n",
       "      <td>0.993825</td>\n",
       "    </tr>\n",
       "    <tr>\n",
       "      <th>2</th>\n",
       "      <td>0.996127</td>\n",
       "      <td>1.021551</td>\n",
       "      <td>0.996949</td>\n",
       "      <td>1.007881</td>\n",
       "      <td>0.994673</td>\n",
       "      <td>0.994768</td>\n",
       "      <td>0.998703</td>\n",
       "      <td>0.994149</td>\n",
       "      <td>1.004181</td>\n",
       "      <td>0.964700</td>\n",
       "      <td>...</td>\n",
       "      <td>0.991579</td>\n",
       "      <td>0.997177</td>\n",
       "      <td>1.027779</td>\n",
       "      <td>1.000369</td>\n",
       "      <td>0.993931</td>\n",
       "      <td>1.005999</td>\n",
       "      <td>0.988015</td>\n",
       "      <td>1.018151</td>\n",
       "      <td>0.983594</td>\n",
       "      <td>0.984649</td>\n",
       "    </tr>\n",
       "    <tr>\n",
       "      <th>3</th>\n",
       "      <td>0.990279</td>\n",
       "      <td>1.026371</td>\n",
       "      <td>0.993273</td>\n",
       "      <td>0.990541</td>\n",
       "      <td>0.993520</td>\n",
       "      <td>1.004322</td>\n",
       "      <td>1.000771</td>\n",
       "      <td>0.996087</td>\n",
       "      <td>1.015687</td>\n",
       "      <td>0.963314</td>\n",
       "      <td>...</td>\n",
       "      <td>1.000355</td>\n",
       "      <td>0.986785</td>\n",
       "      <td>1.045356</td>\n",
       "      <td>1.019638</td>\n",
       "      <td>0.990695</td>\n",
       "      <td>1.009741</td>\n",
       "      <td>0.985485</td>\n",
       "      <td>1.027505</td>\n",
       "      <td>0.978825</td>\n",
       "      <td>0.975391</td>\n",
       "    </tr>\n",
       "    <tr>\n",
       "      <th>4</th>\n",
       "      <td>0.993809</td>\n",
       "      <td>1.022355</td>\n",
       "      <td>0.992732</td>\n",
       "      <td>1.003955</td>\n",
       "      <td>0.985387</td>\n",
       "      <td>1.001625</td>\n",
       "      <td>0.997669</td>\n",
       "      <td>0.987029</td>\n",
       "      <td>1.027383</td>\n",
       "      <td>0.973269</td>\n",
       "      <td>...</td>\n",
       "      <td>1.004964</td>\n",
       "      <td>1.009573</td>\n",
       "      <td>1.048260</td>\n",
       "      <td>1.038619</td>\n",
       "      <td>0.979847</td>\n",
       "      <td>1.007872</td>\n",
       "      <td>1.004425</td>\n",
       "      <td>1.031174</td>\n",
       "      <td>0.986353</td>\n",
       "      <td>0.976180</td>\n",
       "    </tr>\n",
       "    <tr>\n",
       "      <th>...</th>\n",
       "      <td>...</td>\n",
       "      <td>...</td>\n",
       "      <td>...</td>\n",
       "      <td>...</td>\n",
       "      <td>...</td>\n",
       "      <td>...</td>\n",
       "      <td>...</td>\n",
       "      <td>...</td>\n",
       "      <td>...</td>\n",
       "      <td>...</td>\n",
       "      <td>...</td>\n",
       "      <td>...</td>\n",
       "      <td>...</td>\n",
       "      <td>...</td>\n",
       "      <td>...</td>\n",
       "      <td>...</td>\n",
       "      <td>...</td>\n",
       "      <td>...</td>\n",
       "      <td>...</td>\n",
       "      <td>...</td>\n",
       "      <td>...</td>\n",
       "    </tr>\n",
       "    <tr>\n",
       "      <th>2516</th>\n",
       "      <td>1.004697</td>\n",
       "      <td>1.409606</td>\n",
       "      <td>1.566719</td>\n",
       "      <td>1.626405</td>\n",
       "      <td>1.489894</td>\n",
       "      <td>1.974992</td>\n",
       "      <td>1.329357</td>\n",
       "      <td>0.983949</td>\n",
       "      <td>2.420468</td>\n",
       "      <td>2.275030</td>\n",
       "      <td>...</td>\n",
       "      <td>0.640372</td>\n",
       "      <td>1.118849</td>\n",
       "      <td>1.467636</td>\n",
       "      <td>1.585402</td>\n",
       "      <td>1.057332</td>\n",
       "      <td>1.935081</td>\n",
       "      <td>4.033282</td>\n",
       "      <td>1.465003</td>\n",
       "      <td>1.262611</td>\n",
       "      <td>1.610127</td>\n",
       "    </tr>\n",
       "    <tr>\n",
       "      <th>2517</th>\n",
       "      <td>1.021973</td>\n",
       "      <td>1.406481</td>\n",
       "      <td>1.544547</td>\n",
       "      <td>1.618136</td>\n",
       "      <td>1.499633</td>\n",
       "      <td>1.959816</td>\n",
       "      <td>1.336656</td>\n",
       "      <td>0.970824</td>\n",
       "      <td>2.412393</td>\n",
       "      <td>2.272745</td>\n",
       "      <td>...</td>\n",
       "      <td>0.643412</td>\n",
       "      <td>1.114857</td>\n",
       "      <td>1.483452</td>\n",
       "      <td>1.588974</td>\n",
       "      <td>1.065783</td>\n",
       "      <td>1.922530</td>\n",
       "      <td>4.089088</td>\n",
       "      <td>1.468674</td>\n",
       "      <td>1.243636</td>\n",
       "      <td>1.594071</td>\n",
       "    </tr>\n",
       "    <tr>\n",
       "      <th>2518</th>\n",
       "      <td>1.020211</td>\n",
       "      <td>1.394227</td>\n",
       "      <td>1.533825</td>\n",
       "      <td>1.606290</td>\n",
       "      <td>1.468121</td>\n",
       "      <td>1.959182</td>\n",
       "      <td>1.311446</td>\n",
       "      <td>0.979620</td>\n",
       "      <td>2.395378</td>\n",
       "      <td>2.288585</td>\n",
       "      <td>...</td>\n",
       "      <td>0.646252</td>\n",
       "      <td>1.124226</td>\n",
       "      <td>1.474962</td>\n",
       "      <td>1.569615</td>\n",
       "      <td>1.079897</td>\n",
       "      <td>1.942068</td>\n",
       "      <td>4.062906</td>\n",
       "      <td>1.473540</td>\n",
       "      <td>1.260808</td>\n",
       "      <td>1.584785</td>\n",
       "    </tr>\n",
       "    <tr>\n",
       "      <th>2519</th>\n",
       "      <td>1.029550</td>\n",
       "      <td>1.403412</td>\n",
       "      <td>1.536361</td>\n",
       "      <td>1.615689</td>\n",
       "      <td>1.463938</td>\n",
       "      <td>1.961338</td>\n",
       "      <td>1.308465</td>\n",
       "      <td>0.967815</td>\n",
       "      <td>2.389311</td>\n",
       "      <td>2.288038</td>\n",
       "      <td>...</td>\n",
       "      <td>0.646847</td>\n",
       "      <td>1.125820</td>\n",
       "      <td>1.486880</td>\n",
       "      <td>1.582238</td>\n",
       "      <td>1.075022</td>\n",
       "      <td>1.960516</td>\n",
       "      <td>3.987384</td>\n",
       "      <td>1.461019</td>\n",
       "      <td>1.256905</td>\n",
       "      <td>1.576640</td>\n",
       "    </tr>\n",
       "    <tr>\n",
       "      <th>2520</th>\n",
       "      <td>1.020332</td>\n",
       "      <td>1.401161</td>\n",
       "      <td>1.544254</td>\n",
       "      <td>1.622547</td>\n",
       "      <td>1.460304</td>\n",
       "      <td>2.000631</td>\n",
       "      <td>1.306941</td>\n",
       "      <td>0.977481</td>\n",
       "      <td>2.394917</td>\n",
       "      <td>2.289089</td>\n",
       "      <td>...</td>\n",
       "      <td>0.655339</td>\n",
       "      <td>1.133642</td>\n",
       "      <td>1.502880</td>\n",
       "      <td>1.584168</td>\n",
       "      <td>1.072305</td>\n",
       "      <td>1.932597</td>\n",
       "      <td>3.959078</td>\n",
       "      <td>1.455117</td>\n",
       "      <td>1.273490</td>\n",
       "      <td>1.579422</td>\n",
       "    </tr>\n",
       "  </tbody>\n",
       "</table>\n",
       "<p>2521 rows × 500 columns</p>\n",
       "</div>"
      ],
      "text/plain": [
       "           0         1         2         3         4         5         6    \\\n",
       "0     1.000000  1.000000  1.000000  1.000000  1.000000  1.000000  1.000000   \n",
       "1     0.996001  1.003471  0.997957  1.000298  1.000492  0.997919  0.993119   \n",
       "2     0.996127  1.021551  0.996949  1.007881  0.994673  0.994768  0.998703   \n",
       "3     0.990279  1.026371  0.993273  0.990541  0.993520  1.004322  1.000771   \n",
       "4     0.993809  1.022355  0.992732  1.003955  0.985387  1.001625  0.997669   \n",
       "...        ...       ...       ...       ...       ...       ...       ...   \n",
       "2516  1.004697  1.409606  1.566719  1.626405  1.489894  1.974992  1.329357   \n",
       "2517  1.021973  1.406481  1.544547  1.618136  1.499633  1.959816  1.336656   \n",
       "2518  1.020211  1.394227  1.533825  1.606290  1.468121  1.959182  1.311446   \n",
       "2519  1.029550  1.403412  1.536361  1.615689  1.463938  1.961338  1.308465   \n",
       "2520  1.020332  1.401161  1.544254  1.622547  1.460304  2.000631  1.306941   \n",
       "\n",
       "           7         8         9    ...       490       491       492  \\\n",
       "0     1.000000  1.000000  1.000000  ...  1.000000  1.000000  1.000000   \n",
       "1     0.994452  1.005313  0.981636  ...  0.992486  1.004889  1.001529   \n",
       "2     0.994149  1.004181  0.964700  ...  0.991579  0.997177  1.027779   \n",
       "3     0.996087  1.015687  0.963314  ...  1.000355  0.986785  1.045356   \n",
       "4     0.987029  1.027383  0.973269  ...  1.004964  1.009573  1.048260   \n",
       "...        ...       ...       ...  ...       ...       ...       ...   \n",
       "2516  0.983949  2.420468  2.275030  ...  0.640372  1.118849  1.467636   \n",
       "2517  0.970824  2.412393  2.272745  ...  0.643412  1.114857  1.483452   \n",
       "2518  0.979620  2.395378  2.288585  ...  0.646252  1.124226  1.474962   \n",
       "2519  0.967815  2.389311  2.288038  ...  0.646847  1.125820  1.486880   \n",
       "2520  0.977481  2.394917  2.289089  ...  0.655339  1.133642  1.502880   \n",
       "\n",
       "           493       494       495       496       497       498       499  \n",
       "0     1.000000  1.000000  1.000000  1.000000  1.000000  1.000000  1.000000  \n",
       "1     0.996614  0.993392  1.002200  1.001387  1.000528  0.982002  0.993825  \n",
       "2     1.000369  0.993931  1.005999  0.988015  1.018151  0.983594  0.984649  \n",
       "3     1.019638  0.990695  1.009741  0.985485  1.027505  0.978825  0.975391  \n",
       "4     1.038619  0.979847  1.007872  1.004425  1.031174  0.986353  0.976180  \n",
       "...        ...       ...       ...       ...       ...       ...       ...  \n",
       "2516  1.585402  1.057332  1.935081  4.033282  1.465003  1.262611  1.610127  \n",
       "2517  1.588974  1.065783  1.922530  4.089088  1.468674  1.243636  1.594071  \n",
       "2518  1.569615  1.079897  1.942068  4.062906  1.473540  1.260808  1.584785  \n",
       "2519  1.582238  1.075022  1.960516  3.987384  1.461019  1.256905  1.576640  \n",
       "2520  1.584168  1.072305  1.932597  3.959078  1.455117  1.273490  1.579422  \n",
       "\n",
       "[2521 rows x 500 columns]"
      ]
     },
     "execution_count": 158,
     "metadata": {},
     "output_type": "execute_result"
    }
   ],
   "source": [
    "# Run the Monte Carlo simulation to forecast 10 years cumulative returns\n",
    "mc_ten_year.calc_cumulative_return() n"
   ]
  },
  {
   "cell_type": "code",
   "execution_count": 159,
   "metadata": {},
   "outputs": [
    {
     "data": {
      "image/png": "[encoded data removed]",
      "text/plain": [
       "<Figure size 432x288 with 1 Axes>"
      ]
     },
     "metadata": {
      "needs_background": "light"
     },
     "output_type": "display_data"
    }
   ],
   "source": [
    "# Visualize the 10-year Monte Carlo simulation by creating an\n",
    "# overlay line plot\n",
    "MC_sim_line_plot_ten = mc_ten_year.plot_simulation()\n",
    "MC_sim_line_plot_ten.get_figure().savefig(\"MC_ten_sim_plot.png\", bbox_inches=\"tight\")"
   ]
  },
  {
   "cell_type": "code",
   "execution_count": 160,
   "metadata": {},
   "outputs": [
    {
     "data": {
      "image/png": "[encoded data removed]",
      "text/plain": [
       "<Figure size 432x288 with 1 Axes>"
      ]
     },
     "metadata": {
      "needs_background": "light"
     },
     "output_type": "display_data"
    }
   ],
   "source": [
    "# Visualize the probability distribution of the 10-year Monte Carlo simulation \n",
    "# by plotting a histogram\n",
    "MC_sim_dist_plot_ten = mc_ten_year.plot_distribution()\n",
    "MC_sim_dist_plot_ten.get_figure().savefig('MC_ten_year_dist_plot.png',bbox_inches='tight')"
   ]
  },
  {
   "cell_type": "code",
   "execution_count": 161,
   "metadata": {},
   "outputs": [
    {
     "name": "stdout",
     "output_type": "stream",
     "text": [
      "count           500.000000\n",
      "mean              1.705737\n",
      "std               0.889773\n",
      "min               0.416278\n",
      "25%               1.092744\n",
      "50%               1.491051\n",
      "75%               2.098688\n",
      "max               8.019618\n",
      "95% CI Lower      0.606145\n",
      "95% CI Upper      3.820187\n",
      "Name: 2520, dtype: float64\n"
     ]
    }
   ],
   "source": [
    "# Generate summary statistics from the 10-year Monte Carlo simulation results\n",
    "# Save the results as a variable\n",
    "MC_summary_statistics_ten = mc_ten_year.summarize_cumulative_return()\n",
    "\n",
    "# Review the 10-year Monte Carlo summary statistics\n",
    "print(MC_summary_statistics_ten)"
   ]
  },
  {
   "cell_type": "markdown",
   "metadata": {},
   "source": [
    "### Answer the following questions:"
   ]
  },
  {
   "cell_type": "markdown",
   "metadata": {},
   "source": [
    "#### Question: Using the current value of only the stock and bond portion of the member's portfolio and the summary statistics that you generated from the new Monte Carlo simulation, what are the lower and upper bounds for the expected value of the portfolio (with the new weights) with a 95% confidence interval?"
   ]
  },
  {
   "cell_type": "code",
   "execution_count": 162,
   "metadata": {},
   "outputs": [],
   "source": [
    "# Print the current balance of the stock and bond portion of the members portfolio\n",
    "# YOUR CODE HERE\n"
   ]
  },
  {
   "cell_type": "code",
   "execution_count": 163,
   "metadata": {},
   "outputs": [
    {
     "name": "stdout",
     "output_type": "stream",
     "text": [
      "6061.454819445641\n",
      "38201.86949908262\n"
     ]
    }
   ],
   "source": [
    "# Use the lower and upper `95%` confidence intervals to calculate the range of the possible outcomes for the current stock/bond portfolio\n",
    "ci_lower_ten_cumulative_return = MC_summary_statistics_ten[8] * 10000# YOUR CODE HERE\n",
    "ci_upper_ten_cumulative_return = MC_summary_statistics_ten[9] * 10000# YOUR CODE HERE\n",
    "\n",
    "# Print the result of your calculations\n",
    "print(ci_lower_ten_cumulative_return)\n",
    "print(ci_upper_ten_cumulative_return)"
   ]
  },
  {
   "cell_type": "markdown",
   "metadata": {},
   "source": [
    "#### Question: Will weighting the portfolio more heavily to stocks allow the credit union members to retire after only 10 years?"
   ]
  },
  {
   "cell_type": "raw",
   "metadata": {},
   "source": [
    "**Answer** No, though you do grow your money, the 80/20 split over 10 years is not enough to overcome the return of a 60/40 split over 30 years.  One upside to the 10 year stock heavy plan is that is significantly increases the lower bound of earnings from the 30 year plan.  However, you also earn less from the upper bound of returns.  "
   ]
  },
  {
   "cell_type": "code",
   "execution_count": null,
   "metadata": {},
   "outputs": [],
   "source": []
  }
 ],
 "metadata": {
  "kernelspec": {
   "display_name": "Python 3",
   "language": "python",
   "name": "python3"
  },
  "language_info": {
   "codemirror_mode": {
    "name": "ipython",
    "version": 3
   },
   "file_extension": ".py",
   "mimetype": "text/x-python",
   "name": "python",
   "nbconvert_exporter": "python",
   "pygments_lexer": "ipython3",
   "version": "3.7.10"
  }
 },
 "nbformat": 4,
 "nbformat_minor": 4
}
